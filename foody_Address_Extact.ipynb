{
 "metadata": {
  "language_info": {
   "codemirror_mode": {
    "name": "ipython",
    "version": 3
   },
   "file_extension": ".py",
   "mimetype": "text/x-python",
   "name": "python",
   "nbconvert_exporter": "python",
   "pygments_lexer": "ipython3",
   "version": "3.8.5"
  },
  "orig_nbformat": 2,
  "kernelspec": {
   "name": "python385jvsc74a57bd0aee8b7b246df8f9039afb4144a1f6fd8d2ca17a180786b69acc140d282b71a49",
   "display_name": "Python 3.8.5 64-bit"
  },
  "metadata": {
   "interpreter": {
    "hash": "aee8b7b246df8f9039afb4144a1f6fd8d2ca17a180786b69acc140d282b71a49"
   }
  }
 },
 "nbformat": 4,
 "nbformat_minor": 2,
 "cells": [
  {
   "cell_type": "code",
   "execution_count": 5,
   "metadata": {},
   "outputs": [],
   "source": [
    "from selenium import webdriver\n",
    "from selenium.webdriver.common.keys import Keys\n",
    "from bs4 import BeautifulSoup\n",
    "from time import sleep\n",
    "import csv\n",
    "import urllib\n",
    "from selenium.webdriver.common.action_chains import ActionChains\n",
    "import requests\n",
    "import json\n",
    "import re\n",
    "import tqdm\n",
    "import urllib.request\n",
    "import os\n",
    "from tqdm import tqdm\n",
    "from getpass import getpass\n",
    "# driver = webdriver.Chrome()\n",
    "# driver.get(\"https://www.foody.vn\")\n",
    "# page_source = BeautifulSoup(driver.page_source)\n",
    "\n",
    "# link_web_all_provinces=[]\n",
    "# for i in range(64):\n",
    "#     link_web_all_provinces.append(driver.find_element_by_css_selector('#popupLocation > ul > li > ul').find_elements_by_tag_name(\"a\")[i].get_attribute(\"href\")+\"/dia-diem?q=&ss=header_search_form\")\n",
    "\n",
    "# with open(\"foody_Address.txt\",\"w\") as f:\n",
    "#     for item in link_web_all_provinces:\n",
    "#         f.write(\"%s\\n\" % item)\n",
    "# import pickle5 as pickle\n",
    "\n",
    "from selenium import webdriver\n",
    "from selenium.webdriver.common.keys import Keys\n",
    "from bs4 import BeautifulSoup\n",
    "from time import sleep\n",
    "import csv\n",
    "import urllib\n",
    "from selenium.webdriver.common.action_chains import ActionChains\n",
    "import requests\n",
    "import json\n",
    "import re\n",
    "import tqdm\n",
    "import urllib.request\n",
    "import os\n",
    "from tqdm import tqdm\n",
    "from selenium import webdriver\n",
    "from selenium.common.exceptions import TimeoutException,StaleElementReferenceException,InvalidArgumentException,ElementClickInterceptedException,NoSuchElementException,WebDriverException\n",
    "from selenium.webdriver.support.ui import WebDriverWait\n",
    "from selenium.webdriver.support import expected_conditions as EC\n",
    "from selenium.webdriver.common.by import By\n",
    "import pickle5 as pickle\n",
    "with open(\"foody_Address.txt\",\"r\") as f:\n",
    "    link_web_all_provinces=f.read().splitlines()\n",
    "driver = webdriver.Chrome()\n"
   ]
  },
  {
   "cell_type": "code",
   "execution_count": null,
   "metadata": {},
   "outputs": [],
   "source": [
    "print(link_web_all_provinces.index(\"https://www.foody.vn/thai-binh/o-dau\"))\n",
    "url_For_store=pickle.load(open(\"url_for_store.pickle\",\"rb\"))\n",
    "\n",
    "len(url_For_store)"
   ]
  },
  {
   "cell_type": "code",
   "execution_count": null,
   "metadata": {},
   "outputs": [],
   "source": [
    "# for everyweb_page in tqdm(link_web_all_provinces[47:]):\n",
    "#     print(everyweb_page+'\\n')\n",
    "#     driver.get(everyweb_page)\n",
    "#     print(\"Scrolling the webpage\")\n",
    "#     i=0\n",
    "#     for _ in tqdm(range(50)):\n",
    "#         try: \n",
    "#             sleep(5)\n",
    "#             WebDriverWait(driver, 10).until(EC.element_to_be_clickable((By.XPATH, '/html/body/div[2]/section/div[1]/div[2]/div/div'))).click()\n",
    "#             # ActionChains(driver).send_keys(Keys.PAGE_DOWN).perform()\n",
    "#             # driver.send_keys(Keys.END)\n",
    "#             if i==20:\n",
    "#                 continue\n",
    "#         except (TimeoutException, ElementClickInterceptedException):\n",
    "#             print(\"TimeOut\")\n",
    "#             i+=1\n",
    "#             continue\n",
    "#     for elements in driver.find_elements_by_class_name(\"ldc-item-img\"):\n",
    "#             try:\n",
    "#                 url_For_store.append(elements.find_element_by_tag_name(\"a\").get_attribute(\"ng-href\"))\n",
    "#             except:\n",
    "#                 print(\"Failed\")\n",
    "#                 continue\n",
    "#     pickle.dump(set(url_For_store),open(\"url_for_store.pickle\",\"wb\"))    "
   ]
  },
  {
   "source": [
    "## Crawling Comments"
   ],
   "cell_type": "markdown",
   "metadata": {}
  },
  {
   "cell_type": "code",
   "execution_count": 2,
   "metadata": {},
   "outputs": [
    {
     "output_type": "execute_result",
     "data": {
      "text/plain": [
       "1200"
      ]
     },
     "metadata": {},
     "execution_count": 2
    }
   ],
   "source": [
    "url_For_store=pickle.load(open(\"url_for_store.pickle\",\"rb\"))\n",
    "comments_review=pickle.load(open(\"comments_Foody.pickle\",\"rb\"))\n",
    "driver = webdriver.Chrome()\n",
    "len(comments_review)"
   ]
  },
  {
   "cell_type": "code",
   "execution_count": 11,
   "metadata": {},
   "outputs": [
    {
     "output_type": "stream",
     "name": "stderr",
     "text": [
      "  1%|          | 165/14519 [16:49<22:23:33,  5.62s/it]failed\n",
      "  1%|          | 176/14519 [18:02<44:34:54, 11.19s/it]failed\n",
      "  2%|▏         | 301/14519 [29:07<25:00:42,  6.33s/it]failed\n",
      "  6%|▋         | 933/14519 [1:31:15<21:15:58,  5.64s/it]failed\n",
      "  7%|▋         | 1076/14519 [1:45:44<21:28:49,  5.75s/it]loi url\n",
      "  8%|▊         | 1167/14519 [1:54:38<24:17:00,  6.55s/it]failed\n",
      " 11%|█         | 1526/14519 [2:29:32<21:06:11,  5.85s/it]failed\n",
      " 11%|█         | 1570/14519 [2:34:25<21:13:43,  5.90s/it]\n"
     ]
    },
    {
     "output_type": "error",
     "ename": "WebDriverException",
     "evalue": "Message: chrome not reachable\n  (Session info: chrome=90.0.4430.212)\n",
     "traceback": [
      "\u001b[0;31m---------------------------------------------------------------------------\u001b[0m",
      "\u001b[0;31mWebDriverException\u001b[0m                        Traceback (most recent call last)",
      "\u001b[0;32m<ipython-input-11-8ab1b5157d11>\u001b[0m in \u001b[0;36m<module>\u001b[0;34m\u001b[0m\n\u001b[1;32m      9\u001b[0m             \u001b[0;32mtry\u001b[0m\u001b[0;34m:\u001b[0m\u001b[0;34m\u001b[0m\u001b[0;34m\u001b[0m\u001b[0m\n\u001b[1;32m     10\u001b[0m                 \u001b[0msleep\u001b[0m\u001b[0;34m(\u001b[0m\u001b[0;36m1\u001b[0m\u001b[0;34m)\u001b[0m\u001b[0;34m\u001b[0m\u001b[0;34m\u001b[0m\u001b[0m\n\u001b[0;32m---> 11\u001b[0;31m                 \u001b[0mWebDriverWait\u001b[0m\u001b[0;34m(\u001b[0m\u001b[0mdriver\u001b[0m\u001b[0;34m,\u001b[0m \u001b[0;36m1\u001b[0m\u001b[0;34m)\u001b[0m\u001b[0;34m.\u001b[0m\u001b[0muntil\u001b[0m\u001b[0;34m(\u001b[0m\u001b[0mEC\u001b[0m\u001b[0;34m.\u001b[0m\u001b[0melement_to_be_clickable\u001b[0m\u001b[0;34m(\u001b[0m\u001b[0;34m(\u001b[0m\u001b[0mBy\u001b[0m\u001b[0;34m.\u001b[0m\u001b[0mXPATH\u001b[0m\u001b[0;34m,\u001b[0m \u001b[0;34m'/html/body/div[2]/div[2]/div[2]/section/div/div/div/div/div[1]/div/div[2]/div[1]/div/div/a'\u001b[0m\u001b[0;34m)\u001b[0m\u001b[0;34m)\u001b[0m\u001b[0;34m)\u001b[0m\u001b[0;34m.\u001b[0m\u001b[0mclick\u001b[0m\u001b[0;34m(\u001b[0m\u001b[0;34m)\u001b[0m\u001b[0;34m\u001b[0m\u001b[0;34m\u001b[0m\u001b[0m\n\u001b[0m\u001b[1;32m     12\u001b[0m                 \u001b[0mActionChains\u001b[0m\u001b[0;34m(\u001b[0m\u001b[0mdriver\u001b[0m\u001b[0;34m)\u001b[0m\u001b[0;34m.\u001b[0m\u001b[0msend_keys\u001b[0m\u001b[0;34m(\u001b[0m\u001b[0mKeys\u001b[0m\u001b[0;34m.\u001b[0m\u001b[0mPAGE_DOWN\u001b[0m\u001b[0;34m)\u001b[0m\u001b[0;34m.\u001b[0m\u001b[0mperform\u001b[0m\u001b[0;34m(\u001b[0m\u001b[0;34m)\u001b[0m\u001b[0;34m\u001b[0m\u001b[0;34m\u001b[0m\u001b[0m\n\u001b[1;32m     13\u001b[0m             \u001b[0;32mexcept\u001b[0m \u001b[0;34m(\u001b[0m\u001b[0mStaleElementReferenceException\u001b[0m\u001b[0;34m,\u001b[0m \u001b[0mTimeoutException\u001b[0m\u001b[0;34m,\u001b[0m \u001b[0mElementClickInterceptedException\u001b[0m\u001b[0;34m,\u001b[0m\u001b[0mNoSuchElementException\u001b[0m\u001b[0;34m)\u001b[0m\u001b[0;34m:\u001b[0m\u001b[0;34m\u001b[0m\u001b[0;34m\u001b[0m\u001b[0m\n",
      "\u001b[0;32m/Library/Frameworks/Python.framework/Versions/3.8/lib/python3.8/site-packages/selenium/webdriver/support/wait.py\u001b[0m in \u001b[0;36muntil\u001b[0;34m(self, method, message)\u001b[0m\n\u001b[1;32m     69\u001b[0m         \u001b[0;32mwhile\u001b[0m \u001b[0;32mTrue\u001b[0m\u001b[0;34m:\u001b[0m\u001b[0;34m\u001b[0m\u001b[0;34m\u001b[0m\u001b[0m\n\u001b[1;32m     70\u001b[0m             \u001b[0;32mtry\u001b[0m\u001b[0;34m:\u001b[0m\u001b[0;34m\u001b[0m\u001b[0;34m\u001b[0m\u001b[0m\n\u001b[0;32m---> 71\u001b[0;31m                 \u001b[0mvalue\u001b[0m \u001b[0;34m=\u001b[0m \u001b[0mmethod\u001b[0m\u001b[0;34m(\u001b[0m\u001b[0mself\u001b[0m\u001b[0;34m.\u001b[0m\u001b[0m_driver\u001b[0m\u001b[0;34m)\u001b[0m\u001b[0;34m\u001b[0m\u001b[0;34m\u001b[0m\u001b[0m\n\u001b[0m\u001b[1;32m     72\u001b[0m                 \u001b[0;32mif\u001b[0m \u001b[0mvalue\u001b[0m\u001b[0;34m:\u001b[0m\u001b[0;34m\u001b[0m\u001b[0;34m\u001b[0m\u001b[0m\n\u001b[1;32m     73\u001b[0m                     \u001b[0;32mreturn\u001b[0m \u001b[0mvalue\u001b[0m\u001b[0;34m\u001b[0m\u001b[0;34m\u001b[0m\u001b[0m\n",
      "\u001b[0;32m/Library/Frameworks/Python.framework/Versions/3.8/lib/python3.8/site-packages/selenium/webdriver/support/expected_conditions.py\u001b[0m in \u001b[0;36m__call__\u001b[0;34m(self, driver)\u001b[0m\n\u001b[1;32m    295\u001b[0m \u001b[0;34m\u001b[0m\u001b[0m\n\u001b[1;32m    296\u001b[0m     \u001b[0;32mdef\u001b[0m \u001b[0m__call__\u001b[0m\u001b[0;34m(\u001b[0m\u001b[0mself\u001b[0m\u001b[0;34m,\u001b[0m \u001b[0mdriver\u001b[0m\u001b[0;34m)\u001b[0m\u001b[0;34m:\u001b[0m\u001b[0;34m\u001b[0m\u001b[0;34m\u001b[0m\u001b[0m\n\u001b[0;32m--> 297\u001b[0;31m         \u001b[0melement\u001b[0m \u001b[0;34m=\u001b[0m \u001b[0mvisibility_of_element_located\u001b[0m\u001b[0;34m(\u001b[0m\u001b[0mself\u001b[0m\u001b[0;34m.\u001b[0m\u001b[0mlocator\u001b[0m\u001b[0;34m)\u001b[0m\u001b[0;34m(\u001b[0m\u001b[0mdriver\u001b[0m\u001b[0;34m)\u001b[0m\u001b[0;34m\u001b[0m\u001b[0;34m\u001b[0m\u001b[0m\n\u001b[0m\u001b[1;32m    298\u001b[0m         \u001b[0;32mif\u001b[0m \u001b[0melement\u001b[0m \u001b[0;32mand\u001b[0m \u001b[0melement\u001b[0m\u001b[0;34m.\u001b[0m\u001b[0mis_enabled\u001b[0m\u001b[0;34m(\u001b[0m\u001b[0;34m)\u001b[0m\u001b[0;34m:\u001b[0m\u001b[0;34m\u001b[0m\u001b[0;34m\u001b[0m\u001b[0m\n\u001b[1;32m    299\u001b[0m             \u001b[0;32mreturn\u001b[0m \u001b[0melement\u001b[0m\u001b[0;34m\u001b[0m\u001b[0;34m\u001b[0m\u001b[0m\n",
      "\u001b[0;32m/Library/Frameworks/Python.framework/Versions/3.8/lib/python3.8/site-packages/selenium/webdriver/support/expected_conditions.py\u001b[0m in \u001b[0;36m__call__\u001b[0;34m(self, driver)\u001b[0m\n\u001b[1;32m    126\u001b[0m     \u001b[0;32mdef\u001b[0m \u001b[0m__call__\u001b[0m\u001b[0;34m(\u001b[0m\u001b[0mself\u001b[0m\u001b[0;34m,\u001b[0m \u001b[0mdriver\u001b[0m\u001b[0;34m)\u001b[0m\u001b[0;34m:\u001b[0m\u001b[0;34m\u001b[0m\u001b[0;34m\u001b[0m\u001b[0m\n\u001b[1;32m    127\u001b[0m         \u001b[0;32mtry\u001b[0m\u001b[0;34m:\u001b[0m\u001b[0;34m\u001b[0m\u001b[0;34m\u001b[0m\u001b[0m\n\u001b[0;32m--> 128\u001b[0;31m             \u001b[0;32mreturn\u001b[0m \u001b[0m_element_if_visible\u001b[0m\u001b[0;34m(\u001b[0m\u001b[0m_find_element\u001b[0m\u001b[0;34m(\u001b[0m\u001b[0mdriver\u001b[0m\u001b[0;34m,\u001b[0m \u001b[0mself\u001b[0m\u001b[0;34m.\u001b[0m\u001b[0mlocator\u001b[0m\u001b[0;34m)\u001b[0m\u001b[0;34m)\u001b[0m\u001b[0;34m\u001b[0m\u001b[0;34m\u001b[0m\u001b[0m\n\u001b[0m\u001b[1;32m    129\u001b[0m         \u001b[0;32mexcept\u001b[0m \u001b[0mStaleElementReferenceException\u001b[0m\u001b[0;34m:\u001b[0m\u001b[0;34m\u001b[0m\u001b[0;34m\u001b[0m\u001b[0m\n\u001b[1;32m    130\u001b[0m             \u001b[0;32mreturn\u001b[0m \u001b[0;32mFalse\u001b[0m\u001b[0;34m\u001b[0m\u001b[0;34m\u001b[0m\u001b[0m\n",
      "\u001b[0;32m/Library/Frameworks/Python.framework/Versions/3.8/lib/python3.8/site-packages/selenium/webdriver/support/expected_conditions.py\u001b[0m in \u001b[0;36m_find_element\u001b[0;34m(driver, by)\u001b[0m\n\u001b[1;32m    413\u001b[0m         \u001b[0;32mraise\u001b[0m \u001b[0me\u001b[0m\u001b[0;34m\u001b[0m\u001b[0;34m\u001b[0m\u001b[0m\n\u001b[1;32m    414\u001b[0m     \u001b[0;32mexcept\u001b[0m \u001b[0mWebDriverException\u001b[0m \u001b[0;32mas\u001b[0m \u001b[0me\u001b[0m\u001b[0;34m:\u001b[0m\u001b[0;34m\u001b[0m\u001b[0;34m\u001b[0m\u001b[0m\n\u001b[0;32m--> 415\u001b[0;31m         \u001b[0;32mraise\u001b[0m \u001b[0me\u001b[0m\u001b[0;34m\u001b[0m\u001b[0;34m\u001b[0m\u001b[0m\n\u001b[0m\u001b[1;32m    416\u001b[0m \u001b[0;34m\u001b[0m\u001b[0m\n\u001b[1;32m    417\u001b[0m \u001b[0;34m\u001b[0m\u001b[0m\n",
      "\u001b[0;32m/Library/Frameworks/Python.framework/Versions/3.8/lib/python3.8/site-packages/selenium/webdriver/support/expected_conditions.py\u001b[0m in \u001b[0;36m_find_element\u001b[0;34m(driver, by)\u001b[0m\n\u001b[1;32m    409\u001b[0m     if thrown.\"\"\"\n\u001b[1;32m    410\u001b[0m     \u001b[0;32mtry\u001b[0m\u001b[0;34m:\u001b[0m\u001b[0;34m\u001b[0m\u001b[0;34m\u001b[0m\u001b[0m\n\u001b[0;32m--> 411\u001b[0;31m         \u001b[0;32mreturn\u001b[0m \u001b[0mdriver\u001b[0m\u001b[0;34m.\u001b[0m\u001b[0mfind_element\u001b[0m\u001b[0;34m(\u001b[0m\u001b[0;34m*\u001b[0m\u001b[0mby\u001b[0m\u001b[0;34m)\u001b[0m\u001b[0;34m\u001b[0m\u001b[0;34m\u001b[0m\u001b[0m\n\u001b[0m\u001b[1;32m    412\u001b[0m     \u001b[0;32mexcept\u001b[0m \u001b[0mNoSuchElementException\u001b[0m \u001b[0;32mas\u001b[0m \u001b[0me\u001b[0m\u001b[0;34m:\u001b[0m\u001b[0;34m\u001b[0m\u001b[0;34m\u001b[0m\u001b[0m\n\u001b[1;32m    413\u001b[0m         \u001b[0;32mraise\u001b[0m \u001b[0me\u001b[0m\u001b[0;34m\u001b[0m\u001b[0;34m\u001b[0m\u001b[0m\n",
      "\u001b[0;32m/Library/Frameworks/Python.framework/Versions/3.8/lib/python3.8/site-packages/selenium/webdriver/remote/webdriver.py\u001b[0m in \u001b[0;36mfind_element\u001b[0;34m(self, by, value)\u001b[0m\n\u001b[1;32m    974\u001b[0m                 \u001b[0mby\u001b[0m \u001b[0;34m=\u001b[0m \u001b[0mBy\u001b[0m\u001b[0;34m.\u001b[0m\u001b[0mCSS_SELECTOR\u001b[0m\u001b[0;34m\u001b[0m\u001b[0;34m\u001b[0m\u001b[0m\n\u001b[1;32m    975\u001b[0m                 \u001b[0mvalue\u001b[0m \u001b[0;34m=\u001b[0m \u001b[0;34m'[name=\"%s\"]'\u001b[0m \u001b[0;34m%\u001b[0m \u001b[0mvalue\u001b[0m\u001b[0;34m\u001b[0m\u001b[0;34m\u001b[0m\u001b[0m\n\u001b[0;32m--> 976\u001b[0;31m         return self.execute(Command.FIND_ELEMENT, {\n\u001b[0m\u001b[1;32m    977\u001b[0m             \u001b[0;34m'using'\u001b[0m\u001b[0;34m:\u001b[0m \u001b[0mby\u001b[0m\u001b[0;34m,\u001b[0m\u001b[0;34m\u001b[0m\u001b[0;34m\u001b[0m\u001b[0m\n\u001b[1;32m    978\u001b[0m             'value': value})['value']\n",
      "\u001b[0;32m/Library/Frameworks/Python.framework/Versions/3.8/lib/python3.8/site-packages/selenium/webdriver/remote/webdriver.py\u001b[0m in \u001b[0;36mexecute\u001b[0;34m(self, driver_command, params)\u001b[0m\n\u001b[1;32m    319\u001b[0m         \u001b[0mresponse\u001b[0m \u001b[0;34m=\u001b[0m \u001b[0mself\u001b[0m\u001b[0;34m.\u001b[0m\u001b[0mcommand_executor\u001b[0m\u001b[0;34m.\u001b[0m\u001b[0mexecute\u001b[0m\u001b[0;34m(\u001b[0m\u001b[0mdriver_command\u001b[0m\u001b[0;34m,\u001b[0m \u001b[0mparams\u001b[0m\u001b[0;34m)\u001b[0m\u001b[0;34m\u001b[0m\u001b[0;34m\u001b[0m\u001b[0m\n\u001b[1;32m    320\u001b[0m         \u001b[0;32mif\u001b[0m \u001b[0mresponse\u001b[0m\u001b[0;34m:\u001b[0m\u001b[0;34m\u001b[0m\u001b[0;34m\u001b[0m\u001b[0m\n\u001b[0;32m--> 321\u001b[0;31m             \u001b[0mself\u001b[0m\u001b[0;34m.\u001b[0m\u001b[0merror_handler\u001b[0m\u001b[0;34m.\u001b[0m\u001b[0mcheck_response\u001b[0m\u001b[0;34m(\u001b[0m\u001b[0mresponse\u001b[0m\u001b[0;34m)\u001b[0m\u001b[0;34m\u001b[0m\u001b[0;34m\u001b[0m\u001b[0m\n\u001b[0m\u001b[1;32m    322\u001b[0m             response['value'] = self._unwrap_value(\n\u001b[1;32m    323\u001b[0m                 response.get('value', None))\n",
      "\u001b[0;32m/Library/Frameworks/Python.framework/Versions/3.8/lib/python3.8/site-packages/selenium/webdriver/remote/errorhandler.py\u001b[0m in \u001b[0;36mcheck_response\u001b[0;34m(self, response)\u001b[0m\n\u001b[1;32m    240\u001b[0m                 \u001b[0malert_text\u001b[0m \u001b[0;34m=\u001b[0m \u001b[0mvalue\u001b[0m\u001b[0;34m[\u001b[0m\u001b[0;34m'alert'\u001b[0m\u001b[0;34m]\u001b[0m\u001b[0;34m.\u001b[0m\u001b[0mget\u001b[0m\u001b[0;34m(\u001b[0m\u001b[0;34m'text'\u001b[0m\u001b[0;34m)\u001b[0m\u001b[0;34m\u001b[0m\u001b[0;34m\u001b[0m\u001b[0m\n\u001b[1;32m    241\u001b[0m             \u001b[0;32mraise\u001b[0m \u001b[0mexception_class\u001b[0m\u001b[0;34m(\u001b[0m\u001b[0mmessage\u001b[0m\u001b[0;34m,\u001b[0m \u001b[0mscreen\u001b[0m\u001b[0;34m,\u001b[0m \u001b[0mstacktrace\u001b[0m\u001b[0;34m,\u001b[0m \u001b[0malert_text\u001b[0m\u001b[0;34m)\u001b[0m\u001b[0;34m\u001b[0m\u001b[0;34m\u001b[0m\u001b[0m\n\u001b[0;32m--> 242\u001b[0;31m         \u001b[0;32mraise\u001b[0m \u001b[0mexception_class\u001b[0m\u001b[0;34m(\u001b[0m\u001b[0mmessage\u001b[0m\u001b[0;34m,\u001b[0m \u001b[0mscreen\u001b[0m\u001b[0;34m,\u001b[0m \u001b[0mstacktrace\u001b[0m\u001b[0;34m)\u001b[0m\u001b[0;34m\u001b[0m\u001b[0;34m\u001b[0m\u001b[0m\n\u001b[0m\u001b[1;32m    243\u001b[0m \u001b[0;34m\u001b[0m\u001b[0m\n\u001b[1;32m    244\u001b[0m     \u001b[0;32mdef\u001b[0m \u001b[0m_value_or_default\u001b[0m\u001b[0;34m(\u001b[0m\u001b[0mself\u001b[0m\u001b[0;34m,\u001b[0m \u001b[0mobj\u001b[0m\u001b[0;34m,\u001b[0m \u001b[0mkey\u001b[0m\u001b[0;34m,\u001b[0m \u001b[0mdefault\u001b[0m\u001b[0;34m)\u001b[0m\u001b[0;34m:\u001b[0m\u001b[0;34m\u001b[0m\u001b[0;34m\u001b[0m\u001b[0m\n",
      "\u001b[0;31mWebDriverException\u001b[0m: Message: chrome not reachable\n  (Session info: chrome=90.0.4430.212)\n"
     ]
    }
   ],
   "source": [
    "# driver = webdriver.Chrome()\n",
    "for url in tqdm(list(url_For_store)[5750+9311+1571:]):\n",
    "    try:\n",
    "        driver.get(f\"https://www.foody.vn{url}\")\n",
    "    except WebDriverException:\n",
    "        print(\"loi url\")\n",
    "        continue\n",
    "    for _ in range(100):\n",
    "            try: \n",
    "                sleep(1)\n",
    "                WebDriverWait(driver, 1).until(EC.element_to_be_clickable((By.XPATH, '/html/body/div[2]/div[2]/div[2]/section/div/div/div/div/div[1]/div/div[2]/div[1]/div/div/a'))).click()\n",
    "                ActionChains(driver).send_keys(Keys.PAGE_DOWN).perform()        \n",
    "            except (StaleElementReferenceException, TimeoutException, ElementClickInterceptedException,NoSuchElementException):\n",
    "                break\n",
    "    try:\n",
    "        WebDriverWait(driver, 5).until(EC.visibility_of_element_located((By.XPATH, '/html/body/div[2]/div[2]/div[2]/section/div/div/div/div/div[1]/div/div[3]/div[1]')))\n",
    "        for elements in driver.find_element_by_xpath(\"/html/body/div[2]/div[2]/div[2]/section/div/div/div/div/div[1]/div/div[3]/div[1]\").find_elements_by_class_name(\"rd-des\"):\n",
    "            comments_review.append(elements.text)\n",
    "    except (StaleElementReferenceException,TimeoutException):\n",
    "        print(\"failed\")\n",
    "    pickle.dump(comments_review,open(\"comments_Foody.pickle\",\"wb\"))"
   ]
  },
  {
   "cell_type": "code",
   "execution_count": null,
   "metadata": {},
   "outputs": [],
   "source": [
    "# ##log-in facebook\n",
    "\n",
    "# driver = webdriver.Chrome()\n",
    "# driver.get(\"https://id.foody.vn/account/login?returnUrl=https://www.foody.vn/\")\n",
    "# html = driver.find_element_by_xpath('//*[@id=\"login-form\"]/fieldset/a[1]/div[2]')\n",
    "# html.click()\n",
    "\n",
    "# driver.get(\"https://www.facebook.com/login.php?skip_api_login=1&api_key=395614663835338&kid_directed_site=0&app_id=395614663835338&signed_next=1&next=https%3A%2F%2Fwww.facebook.com%2Fv2.2%2Fdialog%2Foauth%3Fclient_id%3D395614663835338%26redirect_uri%3Dhttps%253A%252F%252Fid.foody.vn%252Fsocialauth%252Fvalidate.sauth%26response_type%3Dcode%26scope%3Demail%26display%3Dpopup%26ret%3Dlogin%26fbapp_pres%3D0%26logger_id%3D9e3437aa-aa49-4430-9115-e99d795d4ec7%26tp%3Dunspecified&cancel_url=https%3A%2F%2Fid.foody.vn%2Fsocialauth%2Fvalidate.sauth%3Ferror%3Daccess_denied%26error_code%3D200%26error_description%3DPermissions%2Berror%26error_reason%3Duser_denied%23_%3D_&display=popup&locale=vi_VN&pl_dbl=0\")\n",
    "\n",
    "# tel_box=driver.find_element_by_xpath('//*[@id=\"email\"]')\n",
    "# tel_box.send_keys(account)\n",
    "\n",
    "\n",
    "# key_box=driver.find_element_by_id(\"pass\")\n",
    "# key_box.send_keys(password)\n",
    "# html=driver.find_element_by_xpath('//*[@id=\"pass\"]')\n",
    "# html.click()\n"
   ]
  },
  {
   "cell_type": "code",
   "execution_count": null,
   "metadata": {},
   "outputs": [],
   "source": [
    "import pickle\n",
    "#addressdict={}\n",
    "driver = webdriver.Chrome()\n",
    "driver.get(\"https://foody.vn\")\n",
    "addressdict_foody=[]\n",
    "url_thuonghieu_=[]\n",
    "for province in link_web_all_provinces:\n",
    "    print(f'{province.split(\"/\")[-2]}\\n')\n",
    "    place=province.split(\"/\")[-2]\n",
    "    for length_agent in range(300):\n",
    "        driver.get(f\"https://www.foody.vn/{place}/dia-diem?ds=Restaurant&vt=row&st=1&page={length_agent}&provinceId=217&categoryId=&append=true\")\n",
    "        if len(driver.find_elements_by_class_name(\"resname\"))==0:\n",
    "            break\n",
    "        try:\n",
    "            for h in driver.find_elements_by_class_name(\"resname\"):\n",
    "                    address_string=\"\"\n",
    "                    if \"thuong-hieu\" not in h.find_element_by_tag_name(\"h2\").find_element_by_tag_name(\"a\").get_attribute(\"href\"):\n",
    "                            for index,sub_text in enumerate(h.find_element_by_class_name(\"address\").find_elements_by_tag_name(\"span\")):\n",
    "                                    if index==len(h.find_element_by_class_name(\"address\").find_elements_by_tag_name(\"span\"))-1:\n",
    "                                        address_string+=sub_text.text\n",
    "                                        break\n",
    "                                    address_string+=sub_text.text+\", \"\n",
    "                            addressdict_foody.append(address_string)\n",
    "                    else:\n",
    "                            link=h.find_element_by_tag_name(\"h2\").find_element_by_tag_name(\"a\").get_attribute(\"href\")\n",
    "                            url_thuonghieu_.append(link)\n",
    "\n",
    "            ######\n",
    "        except:\n",
    "            print(\"~~check the error~~\\n\")  \n",
    "            continue\n",
    "        for _,k in tqdm(enumerate(url_thuonghieu_)):\n",
    "            driver.get(k)\n",
    "            for sub_adress in driver.find_elements_by_class_name(\"ldc-item-h-address\"):\n",
    "                addressdict_foody.append(sub_adress.find_element_by_tag_name(\"span\").text)\n",
    "        url_thuonghieu_.clear()\n",
    "    addressdict[place]=addressdict_foody.copy()"
   ]
  },
  {
   "cell_type": "code",
   "execution_count": null,
   "metadata": {},
   "outputs": [],
   "source": [
    "\n",
    "    with open(\"addressdict_.pickle\",\"wb\") as handle:\n",
    "        pickle.dump(addressdict,handle, protocol=pickle.HIGHEST_PROTOCOL)\n",
    "    addressdict_foody.clear()\n",
    "    print(\"-----------------------------------\\n\")"
   ]
  },
  {
   "cell_type": "code",
   "execution_count": null,
   "metadata": {},
   "outputs": [],
   "source": [
    "with open(\"set_addressdict_official.pickle\",\"wb\") as handle:\n",
    "        pickle.dump(address_pickle_set,handle, protocol=pickle.HIGHEST_PROTOCOL)\n",
    "# with open(\"set_addressdict_official.pickle\",'rb') as r:\n",
    "#     address_pickle_set=pickle.load(r) "
   ]
  },
  {
   "cell_type": "code",
   "execution_count": null,
   "metadata": {},
   "outputs": [],
   "source": [
    "# address_pickle_set={}\n",
    "# for h in address_pickle_now:\n",
    "#     address_pickle_set[h]=set(address_pickle_now[h])"
   ]
  },
  {
   "cell_type": "code",
   "execution_count": null,
   "metadata": {},
   "outputs": [],
   "source": [
    "# #addressdict={}\n",
    "# addressdict_foody=[]\n",
    "# url_thuonghieu_=[]\n",
    "# for value in link_web_all_provinces:\n",
    "#     for length_agent in range(166):\n",
    "#         driver.get(f\"https://www.foody.vn/ho-chi-minh/dia-diem?ds=Restaurant&vt=row&st=1&page={length_agent}&provinceId=217&categoryId=&append=true\")\n",
    "#         print(f'{value.split(\"/\")[-2]}\\n')\n",
    "#         # store_len=0 ##check wheter it does load more items or not\n",
    "#         # for _ in range(1000):\n",
    "#         #     try:\n",
    "#         #         if store_len==len(driver.find_elements_by_class_name(\"resname\")):\n",
    "#         #             break\n",
    "#         #         html = driver.find_element_by_xpath('//*[@id=\"scrollLoadingPage\"]/a')\n",
    "#         #         store_len=len(driver.find_elements_by_class_name(\"resname\"))\n",
    "#         #         html.click()\n",
    "#         #         ActionChains(driver).send_keys(Keys.PAGE_DOWN).perform()\n",
    "#         #         sleep(10)\n",
    "#         #     except:\n",
    "#         #         sleep(10)\n",
    "#         #         continue\n",
    "#         # print(\"-----------------------\\n\")\n",
    "#         # print(len(driver.find_elements_by_class_name(\"resname\")))\n",
    "#         for h in driver.find_elements_by_class_name(\"resname\"):\n",
    "#             address_string=\"\"\n",
    "#             try:\n",
    "#                 if \"thuong-hieu\" not in h.find_element_by_tag_name(\"h2\").find_element_by_tag_name(\"a\").get_attribute(\"href\"):\n",
    "#                     for index,sub_text in enumerate(h.find_element_by_class_name(\"address\").find_elements_by_tag_name(\"span\")):\n",
    "#                             if index==len(h.find_element_by_class_name(\"address\").find_elements_by_tag_name(\"span\"))-1:\n",
    "#                                 address_string+=sub_text.text\n",
    "#                                 break\n",
    "#                             address_string+=sub_text.text+\", \"\n",
    "#                     address.append(address_string)\n",
    "#                 else:\n",
    "#                     link=h.find_element_by_tag_name(\"h2\").find_element_by_tag_name(\"a\").get_attribute(\"href\")\n",
    "#                     url_thuonghieu_.append(link)\n",
    "#                 ######\n",
    "#                 for _,k in tqdm(enumerate(url_thuonghieu_)):\n",
    "#                     driver.get(k)\n",
    "#                     for sub_adress in driver.find_elements_by_class_name(\"ldc-item-h-address\"):\n",
    "#                         address.append(sub_adress.find_element_by_tag_name(\"span\").text)\n",
    "#             except OSError as error :  \n",
    "#                     print(error) \n",
    "#         addressdict[value.split(\"/\")[-2]]=address"
   ]
  },
  {
   "cell_type": "code",
   "execution_count": null,
   "metadata": {},
   "outputs": [],
   "source": [
    "import json\n",
    "from tqdm import tqdm\n",
    "file_name=os.listdir(\"/Users/lelac/ResponseToFile-Postman/Responses\")\n",
    "path=\"/Users/lelac/ResponseToFile-Postman/Responses/\"\n",
    "dictionary_Address={}\n",
    "address=[]\n",
    "for _,x in tqdm(enumerate(file_name)):\n",
    "    with open(path+x) as f:\n",
    "        try:\n",
    "            data = json.load(f)\n",
    "        except:\n",
    "            continue\n",
    "    string_address_main=\"\"\n",
    "    for place_Address in data['searchItems']:\n",
    "        address.append(place_Address[\"Address\"]+\", \"+place_Address[\"District\"]+\", \"+place_Address[\"City\"])\n",
    "        if place_Address['SubItems']:\n",
    "            for sub_place in place_Address['SubItems']:\n",
    "                address.append(place_Address[\"Address\"]+\", \"+place_Address[\"District\"]+\", \"+place_Address[\"City\"])\n"
   ]
  },
  {
   "cell_type": "code",
   "execution_count": null,
   "metadata": {},
   "outputs": [],
   "source": [
    "address_pickle_set.keys()"
   ]
  },
  {
   "cell_type": "code",
   "execution_count": null,
   "metadata": {},
   "outputs": [],
   "source": [
    "alternatives={'phường':['ph','p'],\n",
    "'quận':['quan','q'],\n",
    "'thành phố':['thanh pho','tp','t p'],\n",
    "'Tp':['thanh pho','tp','t p'],\n",
    "'Thành phố':['thanh pho','tp','t p'],\n",
    "'thị xã':['thi xa','tx','t x'],\n",
    "'thị trấn':['thi tran','tt','t'],\n",
    "'TT':['thị trấn','thi tran','thị trấn','tt','t'],\n",
    "'P':['Phường','phường','phuong'],\n",
    "'xã':['Xã','xa'],\n",
    "}"
   ]
  },
  {
   "cell_type": "code",
   "execution_count": null,
   "metadata": {},
   "outputs": [],
   "source": [
    "## Change alternatives phrase"
   ]
  },
  {
   "cell_type": "code",
   "execution_count": null,
   "metadata": {},
   "outputs": [],
   "source": [
    "list(address_pickle_set['vung-tau'])[1].split(\" \")[-2]"
   ]
  },
  {
   "cell_type": "code",
   "execution_count": null,
   "metadata": {},
   "outputs": [],
   "source": [
    "list(address_pickle_set['vung-tau'])[:400]"
   ]
  },
  {
   "cell_type": "code",
   "execution_count": null,
   "metadata": {},
   "outputs": [],
   "source": [
    "from transformers import MarianMTModel, MarianTokenizer\n",
    "src_text = [\n",
    "    '>>fra<< this is a sentence in english that we want to translate to french',\n",
    "    '>>por<< This should go to portuguese',\n",
    "    '>>esp<< And this to Spanish'\n",
    "]\n",
    "model_name = 'Helsinki-NLP/opus-mt-en-roa'\n",
    "tokenizer = MarianTokenizer.from_pretrained(model_name)\n",
    "print(tokenizer.supported_language_codes)\n",
    "model = MarianMTModel.from_pretrained(model_name)\n",
    "translated = model.generate(**tokenizer(src_text, return_tensors=\"pt\", padding=True))\n",
    "[tokenizer.decode(t, skip_special_tokens=True) for t in translated]"
   ]
  },
  {
   "cell_type": "code",
   "execution_count": null,
   "metadata": {},
   "outputs": [],
   "source": []
  }
 ]
}