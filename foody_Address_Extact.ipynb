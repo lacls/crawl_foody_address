{
 "metadata": {
  "language_info": {
   "codemirror_mode": {
    "name": "ipython",
    "version": 3
   },
   "file_extension": ".py",
   "mimetype": "text/x-python",
   "name": "python",
   "nbconvert_exporter": "python",
   "pygments_lexer": "ipython3",
   "version": "3.8.5-final"
  },
  "orig_nbformat": 2,
  "kernelspec": {
   "name": "python3",
   "display_name": "Python 3.8.5 64-bit",
   "metadata": {
    "interpreter": {
     "hash": "082e9a3bcad0a290d0001e938aa60b99250c6c2ef33a923c00b70f9826caf4b7"
    }
   }
  }
 },
 "nbformat": 4,
 "nbformat_minor": 2,
 "cells": [
  {
   "cell_type": "code",
   "execution_count": null,
   "metadata": {},
   "outputs": [],
   "source": [
    "from selenium import webdriver\n",
    "from selenium.webdriver.common.keys import Keys\n",
    "from bs4 import BeautifulSoup\n",
    "from time import sleep\n",
    "import csv\n",
    "import urllib\n",
    "from selenium.webdriver.common.action_chains import ActionChains\n",
    "import requests\n",
    "import json\n",
    "import re\n",
    "import tqdm\n",
    "import urllib.request\n",
    "import os\n",
    "from tqdm import tqdm\n",
    "from getpass import getpass\n",
    "# driver = webdriver.Chrome()\n",
    "# driver.get(\"https://www.foody.vn\")\n",
    "# page_source = BeautifulSoup(driver.page_source)\n",
    "\n",
    "# link_web_all_provinces=[]\n",
    "# for i in range(64):\n",
    "#     link_web_all_provinces.append(driver.find_element_by_css_selector('#popupLocation > ul > li > ul').find_elements_by_tag_name(\"a\")[i].get_attribute(\"href\")+\"/dia-diem?q=&ss=header_search_form\")\n",
    "\n",
    "# with open(\"foody_Address.txt\",\"w\") as f:\n",
    "#     for item in link_web_all_provinces:\n",
    "#         f.write(\"%s\\n\" % item)\n",
    "with open(\"foody_Address.txt\",\"r\") as f:\n",
    "    link_web_all_provinces=f.read().splitlines()"
   ]
  },
  {
   "cell_type": "code",
   "execution_count": null,
   "metadata": {},
   "outputs": [],
   "source": [
    "##log-in facebook\n",
    "\n",
    "driver = webdriver.Chrome()\n",
    "driver.get(\"https://id.foody.vn/account/login?returnUrl=https://www.foody.vn/\")\n",
    "html = driver.find_element_by_xpath('//*[@id=\"login-form\"]/fieldset/a[1]/div[2]')\n",
    "html.click()\n",
    "\n",
    "driver.get(\"https://www.facebook.com/login.php?skip_api_login=1&api_key=395614663835338&kid_directed_site=0&app_id=395614663835338&signed_next=1&next=https%3A%2F%2Fwww.facebook.com%2Fv2.2%2Fdialog%2Foauth%3Fclient_id%3D395614663835338%26redirect_uri%3Dhttps%253A%252F%252Fid.foody.vn%252Fsocialauth%252Fvalidate.sauth%26response_type%3Dcode%26scope%3Demail%26display%3Dpopup%26ret%3Dlogin%26fbapp_pres%3D0%26logger_id%3D9e3437aa-aa49-4430-9115-e99d795d4ec7%26tp%3Dunspecified&cancel_url=https%3A%2F%2Fid.foody.vn%2Fsocialauth%2Fvalidate.sauth%3Ferror%3Daccess_denied%26error_code%3D200%26error_description%3DPermissions%2Berror%26error_reason%3Duser_denied%23_%3D_&display=popup&locale=vi_VN&pl_dbl=0\")\n",
    "\n",
    "tel_box=driver.find_element_by_xpath('//*[@id=\"email\"]')\n",
    "tel_box.send_keys(account)\n",
    "\n",
    "\n",
    "key_box=driver.find_element_by_id(\"pass\")\n",
    "key_box.send_keys(password)\n",
    "html=driver.find_element_by_xpath('//*[@id=\"pass\"]')\n",
    "html.click()\n"
   ]
  },
  {
   "cell_type": "code",
   "execution_count": null,
   "metadata": {},
   "outputs": [],
   "source": [
    "import pickle\n",
    "#addressdict={}\n",
    "driver = webdriver.Chrome()\n",
    "driver.get(\"https://foody.vn\")\n",
    "addressdict_foody=[]\n",
    "url_thuonghieu_=[]\n",
    "for province in link_web_all_provinces[4:]:\n",
    "    print(f'{province.split(\"/\")[-2]}\\n')\n",
    "    place=province.split(\"/\")[-2]\n",
    "    for length_agent in range(300):\n",
    "        driver.get(f\"https://www.foody.vn/{place}/dia-diem?ds=Restaurant&vt=row&st=1&page={length_agent}&provinceId=217&categoryId=&append=true\")\n",
    "        if len(driver.find_elements_by_class_name(\"resname\"))==0:\n",
    "            break\n",
    "        try:\n",
    "            for h in driver.find_elements_by_class_name(\"resname\"):\n",
    "                    address_string=\"\"\n",
    "                    if \"thuong-hieu\" not in h.find_element_by_tag_name(\"h2\").find_element_by_tag_name(\"a\").get_attribute(\"href\"):\n",
    "                            for index,sub_text in enumerate(h.find_element_by_class_name(\"address\").find_elements_by_tag_name(\"span\")):\n",
    "                                    if index==len(h.find_element_by_class_name(\"address\").find_elements_by_tag_name(\"span\"))-1:\n",
    "                                        address_string+=sub_text.text\n",
    "                                        break\n",
    "                                    address_string+=sub_text.text+\", \"\n",
    "                            addressdict_foody.append(address_string)\n",
    "                    else:\n",
    "                            link=h.find_element_by_tag_name(\"h2\").find_element_by_tag_name(\"a\").get_attribute(\"href\")\n",
    "                            url_thuonghieu_.append(link)\n",
    "\n",
    "            ######\n",
    "        except:\n",
    "            print(\"~~check the error~~\\n\")  \n",
    "            continue\n",
    "        for _,k in tqdm(enumerate(url_thuonghieu_)):\n",
    "            driver.get(k)\n",
    "            for sub_adress in driver.find_elements_by_class_name(\"ldc-item-h-address\"):\n",
    "                addressdict_foody.append(sub_adress.find_element_by_tag_name(\"span\").text)\n",
    "        url_thuonghieu_.clear()\n",
    "    addressdict[place]=addressdict_foody.copy()\n",
    "    with open(\"addressdict.pickle\",\"wb\") as handle:\n",
    "        pickle.dump(addressdict,handle, protocol=pickle.HIGHEST_PROTOCOL)\n",
    "    addressdict_foody.clear()\n",
    "    print(\"-----------------------------------\\n\")"
   ]
  },
  {
   "cell_type": "code",
   "execution_count": 47,
   "metadata": {},
   "outputs": [],
   "source": [
    "with open(\"set_addressdict_official.pickle\",\"wb\") as handle:\n",
    "        pickle.dump(address_pickle_set,handle, protocol=pickle.HIGHEST_PROTOCOL)\n",
    "# with open(\"set_addressdict_official.pickle\",'rb') as r:\n",
    "#     address_pickle_set=pickle.load(r) "
   ]
  },
  {
   "cell_type": "code",
   "execution_count": 43,
   "metadata": {},
   "outputs": [],
   "source": [
    "address_pickle_set={}\n",
    "for h in address_pickle_now:\n",
    "    address_pickle_set[h]=set(address_pickle_now[h])"
   ]
  },
  {
   "cell_type": "code",
   "execution_count": 45,
   "metadata": {},
   "outputs": [
    {
     "output_type": "execute_result",
     "data": {
      "text/plain": [
       "46564"
      ]
     },
     "metadata": {},
     "execution_count": 45
    }
   ],
   "source": []
  },
  {
   "cell_type": "code",
   "execution_count": null,
   "metadata": {},
   "outputs": [],
   "source": [
    "# #addressdict={}\n",
    "# addressdict_foody=[]\n",
    "# url_thuonghieu_=[]\n",
    "# for value in link_web_all_provinces:\n",
    "#     for length_agent in range(166):\n",
    "#         driver.get(f\"https://www.foody.vn/ho-chi-minh/dia-diem?ds=Restaurant&vt=row&st=1&page={length_agent}&provinceId=217&categoryId=&append=true\")\n",
    "#         print(f'{value.split(\"/\")[-2]}\\n')\n",
    "#         # store_len=0 ##check wheter it does load more items or not\n",
    "#         # for _ in range(1000):\n",
    "#         #     try:\n",
    "#         #         if store_len==len(driver.find_elements_by_class_name(\"resname\")):\n",
    "#         #             break\n",
    "#         #         html = driver.find_element_by_xpath('//*[@id=\"scrollLoadingPage\"]/a')\n",
    "#         #         store_len=len(driver.find_elements_by_class_name(\"resname\"))\n",
    "#         #         html.click()\n",
    "#         #         ActionChains(driver).send_keys(Keys.PAGE_DOWN).perform()\n",
    "#         #         sleep(10)\n",
    "#         #     except:\n",
    "#         #         sleep(10)\n",
    "#         #         continue\n",
    "#         # print(\"-----------------------\\n\")\n",
    "#         # print(len(driver.find_elements_by_class_name(\"resname\")))\n",
    "#         for h in driver.find_elements_by_class_name(\"resname\"):\n",
    "#             address_string=\"\"\n",
    "#             try:\n",
    "#                 if \"thuong-hieu\" not in h.find_element_by_tag_name(\"h2\").find_element_by_tag_name(\"a\").get_attribute(\"href\"):\n",
    "#                     for index,sub_text in enumerate(h.find_element_by_class_name(\"address\").find_elements_by_tag_name(\"span\")):\n",
    "#                             if index==len(h.find_element_by_class_name(\"address\").find_elements_by_tag_name(\"span\"))-1:\n",
    "#                                 address_string+=sub_text.text\n",
    "#                                 break\n",
    "#                             address_string+=sub_text.text+\", \"\n",
    "#                     address.append(address_string)\n",
    "#                 else:\n",
    "#                     link=h.find_element_by_tag_name(\"h2\").find_element_by_tag_name(\"a\").get_attribute(\"href\")\n",
    "#                     url_thuonghieu_.append(link)\n",
    "#                 ######\n",
    "#                 for _,k in tqdm(enumerate(url_thuonghieu_)):\n",
    "#                     driver.get(k)\n",
    "#                     for sub_adress in driver.find_elements_by_class_name(\"ldc-item-h-address\"):\n",
    "#                         address.append(sub_adress.find_element_by_tag_name(\"span\").text)\n",
    "#             except OSError as error :  \n",
    "#                     print(error) \n",
    "#         addressdict[value.split(\"/\")[-2]]=address"
   ]
  },
  {
   "cell_type": "code",
   "execution_count": null,
   "metadata": {},
   "outputs": [],
   "source": [
    "import json\n",
    "from tqdm import tqdm\n",
    "file_name=os.listdir(\"/Users/lelac/ResponseToFile-Postman/Responses\")\n",
    "path=\"/Users/lelac/ResponseToFile-Postman/Responses/\"\n",
    "dictionary_Address={}\n",
    "address=[]\n",
    "for _,x in tqdm(enumerate(file_name)):\n",
    "    with open(path+x) as f:\n",
    "        try:\n",
    "            data = json.load(f)\n",
    "        except:\n",
    "            continue\n",
    "    string_address_main=\"\"\n",
    "    for place_Address in data['searchItems']:\n",
    "        address.append(place_Address[\"Address\"]+\", \"+place_Address[\"District\"]+\", \"+place_Address[\"City\"])\n",
    "        if place_Address['SubItems']:\n",
    "            for sub_place in place_Address['SubItems']:\n",
    "                address.append(place_Address[\"Address\"]+\", \"+place_Address[\"District\"]+\", \"+place_Address[\"City\"])\n"
   ]
  },
  {
   "cell_type": "code",
   "execution_count": null,
   "metadata": {},
   "outputs": [],
   "source": [
    "print(len(set(address)))\n",
    "set(address)\n"
   ]
  },
  {
   "cell_type": "code",
   "execution_count": null,
   "metadata": {},
   "outputs": [],
   "source": [
    "driver = webdriver.Chrome()\n",
    "driver.get(\"https://food.grab.com/vn/vi/restaurants\")\n",
    "page_source = BeautifulSoup(driver.page_source)"
   ]
  },
  {
   "cell_type": "code",
   "execution_count": null,
   "metadata": {},
   "outputs": [],
   "source": [
    "store_len=0 ##check wheter it does load more items or not\n",
    "for i in range(29):\n",
    "    print(f'{i}\\n')\n",
    "    try:\n",
    "        html = driver.find_element_by_xpath('//*[@id=\"page-content\"]/div[4]/div/div/div[4]/div/button')\n",
    "        store_len=len(driver.find_element_by_xpath('/html/body/div[1]/div[2]/div[3]/div[4]/div/div/div[4]/div/div').find_elements_by_tag_name(\"a\"))\n",
    "        html.click()\n",
    "        ActionChains(driver).send_keys(Keys.PAGE_DOWN).perform()\n",
    "        sleep(15)\n",
    "    except:\n",
    "        continue"
   ]
  },
  {
   "cell_type": "code",
   "execution_count": null,
   "metadata": {},
   "outputs": [],
   "source": [
    "get_link_res=driver.find_element_by_xpath('/html/body/div[1]/div[2]/div[3]/div[4]/div/div/div[4]/div/div').find_elements_by_tag_name(\"a\")[0].get_attribute(\"href\")\n"
   ]
  },
  {
   "cell_type": "code",
   "execution_count": null,
   "metadata": {},
   "outputs": [],
   "source": [
    "driver.get(\"https://food.grab.com/vn/vi/restaurant/ch%C3%A1o-37-h%C3%A0o-nam-delivery/5-CYNEE7LAR23YEA\")\n",
    "\n",
    "profiles = page_source.find_all('h3',class_=\"pro-name\")"
   ]
  }
 ]
}