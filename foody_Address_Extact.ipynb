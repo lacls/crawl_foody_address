{
 "metadata": {
  "language_info": {
   "codemirror_mode": {
    "name": "ipython",
    "version": 3
   },
   "file_extension": ".py",
   "mimetype": "text/x-python",
   "name": "python",
   "nbconvert_exporter": "python",
   "pygments_lexer": "ipython3",
   "version": "3.8.5"
  },
  "orig_nbformat": 2,
  "kernelspec": {
   "name": "python385jvsc74a57bd0aee8b7b246df8f9039afb4144a1f6fd8d2ca17a180786b69acc140d282b71a49",
   "display_name": "Python 3.8.5 64-bit"
  },
  "metadata": {
   "interpreter": {
    "hash": "aee8b7b246df8f9039afb4144a1f6fd8d2ca17a180786b69acc140d282b71a49"
   }
  }
 },
 "nbformat": 4,
 "nbformat_minor": 2,
 "cells": [
  {
   "cell_type": "code",
   "execution_count": 1,
   "metadata": {},
   "outputs": [],
   "source": [
    "from selenium import webdriver\n",
    "from selenium.webdriver.common.keys import Keys\n",
    "from bs4 import BeautifulSoup\n",
    "from time import sleep\n",
    "import csv\n",
    "import urllib\n",
    "from selenium.webdriver.common.action_chains import ActionChains\n",
    "import requests\n",
    "import json\n",
    "import re\n",
    "import tqdm\n",
    "import urllib.request\n",
    "import os\n",
    "from tqdm import tqdm\n",
    "from getpass import getpass\n",
    "# driver = webdriver.Chrome()\n",
    "# driver.get(\"https://www.foody.vn\")\n",
    "# page_source = BeautifulSoup(driver.page_source)\n",
    "\n",
    "# link_web_all_provinces=[]\n",
    "# for i in range(64):\n",
    "#     link_web_all_provinces.append(driver.find_element_by_css_selector('#popupLocation > ul > li > ul').find_elements_by_tag_name(\"a\")[i].get_attribute(\"href\")+\"/dia-diem?q=&ss=header_search_form\")\n",
    "\n",
    "# with open(\"foody_Address.txt\",\"w\") as f:\n",
    "#     for item in link_web_all_provinces:\n",
    "#         f.write(\"%s\\n\" % item)\n",
    "# import pickle5 as pickle\n",
    "\n",
    "from selenium import webdriver\n",
    "from selenium.webdriver.common.keys import Keys\n",
    "from bs4 import BeautifulSoup\n",
    "from time import sleep\n",
    "import csv\n",
    "import urllib\n",
    "from selenium.webdriver.common.action_chains import ActionChains\n",
    "import requests\n",
    "import json\n",
    "import re\n",
    "import tqdm\n",
    "import urllib.request\n",
    "import os\n",
    "from tqdm import tqdm\n",
    "from selenium import webdriver\n",
    "from selenium.common.exceptions import TimeoutException,StaleElementReferenceException,InvalidArgumentException,ElementClickInterceptedException\n",
    "from selenium.webdriver.support.ui import WebDriverWait\n",
    "from selenium.webdriver.support import expected_conditions as EC\n",
    "from selenium.webdriver.common.by import By\n",
    "import pickle5 as pickle\n",
    "with open(\"foody_Address.txt\",\"r\") as f:\n",
    "    link_web_all_provinces=f.read().splitlines()\n",
    "driver = webdriver.Chrome()\n"
   ]
  },
  {
   "cell_type": "code",
   "execution_count": 3,
   "metadata": {},
   "outputs": [
    {
     "output_type": "stream",
     "name": "stdout",
     "text": [
      "36\n"
     ]
    },
    {
     "output_type": "execute_result",
     "data": {
      "text/plain": [
       "29580"
      ]
     },
     "metadata": {},
     "execution_count": 3
    }
   ],
   "source": [
    "print(link_web_all_provinces.index(\"https://www.foody.vn/vinh-long/o-dau\"))\n",
    "url_For_store=pickle.load(open(\"url_for_store.pickle\",\"rb\"))\n",
    "\n",
    "len(url_For_store)"
   ]
  },
  {
   "cell_type": "code",
   "execution_count": 9,
   "metadata": {},
   "outputs": [
    {
     "output_type": "error",
     "ename": "SyntaxError",
     "evalue": "invalid syntax (<ipython-input-9-912459bd12a9>, line 14)",
     "traceback": [
      "\u001b[0;36m  File \u001b[0;32m\"<ipython-input-9-912459bd12a9>\"\u001b[0;36m, line \u001b[0;32m14\u001b[0m\n\u001b[0;31m    except TimeoutException, ElementClickInterceptedException:\u001b[0m\n\u001b[0m                           ^\u001b[0m\n\u001b[0;31mSyntaxError\u001b[0m\u001b[0;31m:\u001b[0m invalid syntax\n"
     ]
    }
   ],
   "source": [
    "for everyweb_page in tqdm(link_web_all_provinces[36:]):\n",
    "    print(everyweb_page+'\\n')\n",
    "    driver.get(everyweb_page)\n",
    "    print(\"Scrolling the webpage\")\n",
    "    i=0\n",
    "    for _ in tqdm(range(100)):\n",
    "        try: \n",
    "            sleep(5)\n",
    "            WebDriverWait(driver, 10).until(EC.element_to_be_clickable((By.XPATH, '/html/body/div[2]/section/div[1]/div[2]/div/div'))).click()\n",
    "            # ActionChains(driver).send_keys(Keys.PAGE_DOWN).perform()\n",
    "            # driver.send_keys(Keys.END)\n",
    "            if i==20:\n",
    "                continue\n",
    "        except (TimeoutException, ElementClickInterceptedException):\n",
    "            print(\"TimeOut\")\n",
    "            i+=1\n",
    "            continue\n",
    "    for elements in driver.find_elements_by_class_name(\"ldc-item-img\"):\n",
    "            try:\n",
    "                url_For_store.append(elements.find_element_by_tag_name(\"a\").get_attribute(\"ng-href\"))\n",
    "            except:\n",
    "                print(\"Failed\")\n",
    "                continue\n",
    "    pickle.dump(set(url_For_store),open(\"url_for_store.pickle\",\"wb\"))    "
   ]
  },
  {
   "cell_type": "code",
   "execution_count": null,
   "metadata": {},
   "outputs": [],
   "source": [
    "# ##log-in facebook\n",
    "\n",
    "# driver = webdriver.Chrome()\n",
    "# driver.get(\"https://id.foody.vn/account/login?returnUrl=https://www.foody.vn/\")\n",
    "# html = driver.find_element_by_xpath('//*[@id=\"login-form\"]/fieldset/a[1]/div[2]')\n",
    "# html.click()\n",
    "\n",
    "# driver.get(\"https://www.facebook.com/login.php?skip_api_login=1&api_key=395614663835338&kid_directed_site=0&app_id=395614663835338&signed_next=1&next=https%3A%2F%2Fwww.facebook.com%2Fv2.2%2Fdialog%2Foauth%3Fclient_id%3D395614663835338%26redirect_uri%3Dhttps%253A%252F%252Fid.foody.vn%252Fsocialauth%252Fvalidate.sauth%26response_type%3Dcode%26scope%3Demail%26display%3Dpopup%26ret%3Dlogin%26fbapp_pres%3D0%26logger_id%3D9e3437aa-aa49-4430-9115-e99d795d4ec7%26tp%3Dunspecified&cancel_url=https%3A%2F%2Fid.foody.vn%2Fsocialauth%2Fvalidate.sauth%3Ferror%3Daccess_denied%26error_code%3D200%26error_description%3DPermissions%2Berror%26error_reason%3Duser_denied%23_%3D_&display=popup&locale=vi_VN&pl_dbl=0\")\n",
    "\n",
    "# tel_box=driver.find_element_by_xpath('//*[@id=\"email\"]')\n",
    "# tel_box.send_keys(account)\n",
    "\n",
    "\n",
    "# key_box=driver.find_element_by_id(\"pass\")\n",
    "# key_box.send_keys(password)\n",
    "# html=driver.find_element_by_xpath('//*[@id=\"pass\"]')\n",
    "# html.click()\n"
   ]
  },
  {
   "cell_type": "code",
   "execution_count": null,
   "metadata": {},
   "outputs": [],
   "source": [
    "import pickle\n",
    "#addressdict={}\n",
    "driver = webdriver.Chrome()\n",
    "driver.get(\"https://foody.vn\")\n",
    "addressdict_foody=[]\n",
    "url_thuonghieu_=[]\n",
    "for province in link_web_all_provinces:\n",
    "    print(f'{province.split(\"/\")[-2]}\\n')\n",
    "    place=province.split(\"/\")[-2]\n",
    "    for length_agent in range(300):\n",
    "        driver.get(f\"https://www.foody.vn/{place}/dia-diem?ds=Restaurant&vt=row&st=1&page={length_agent}&provinceId=217&categoryId=&append=true\")\n",
    "        if len(driver.find_elements_by_class_name(\"resname\"))==0:\n",
    "            break\n",
    "        try:\n",
    "            for h in driver.find_elements_by_class_name(\"resname\"):\n",
    "                    address_string=\"\"\n",
    "                    if \"thuong-hieu\" not in h.find_element_by_tag_name(\"h2\").find_element_by_tag_name(\"a\").get_attribute(\"href\"):\n",
    "                            for index,sub_text in enumerate(h.find_element_by_class_name(\"address\").find_elements_by_tag_name(\"span\")):\n",
    "                                    if index==len(h.find_element_by_class_name(\"address\").find_elements_by_tag_name(\"span\"))-1:\n",
    "                                        address_string+=sub_text.text\n",
    "                                        break\n",
    "                                    address_string+=sub_text.text+\", \"\n",
    "                            addressdict_foody.append(address_string)\n",
    "                    else:\n",
    "                            link=h.find_element_by_tag_name(\"h2\").find_element_by_tag_name(\"a\").get_attribute(\"href\")\n",
    "                            url_thuonghieu_.append(link)\n",
    "\n",
    "            ######\n",
    "        except:\n",
    "            print(\"~~check the error~~\\n\")  \n",
    "            continue\n",
    "        for _,k in tqdm(enumerate(url_thuonghieu_)):\n",
    "            driver.get(k)\n",
    "            for sub_adress in driver.find_elements_by_class_name(\"ldc-item-h-address\"):\n",
    "                addressdict_foody.append(sub_adress.find_element_by_tag_name(\"span\").text)\n",
    "        url_thuonghieu_.clear()\n",
    "    addressdict[place]=addressdict_foody.copy()"
   ]
  },
  {
   "cell_type": "code",
   "execution_count": null,
   "metadata": {},
   "outputs": [],
   "source": [
    "\n",
    "    with open(\"addressdict_.pickle\",\"wb\") as handle:\n",
    "        pickle.dump(addressdict,handle, protocol=pickle.HIGHEST_PROTOCOL)\n",
    "    addressdict_foody.clear()\n",
    "    print(\"-----------------------------------\\n\")"
   ]
  },
  {
   "cell_type": "code",
   "execution_count": null,
   "metadata": {},
   "outputs": [],
   "source": [
    "with open(\"set_addressdict_official.pickle\",\"wb\") as handle:\n",
    "        pickle.dump(address_pickle_set,handle, protocol=pickle.HIGHEST_PROTOCOL)\n",
    "# with open(\"set_addressdict_official.pickle\",'rb') as r:\n",
    "#     address_pickle_set=pickle.load(r) "
   ]
  },
  {
   "cell_type": "code",
   "execution_count": null,
   "metadata": {},
   "outputs": [],
   "source": [
    "# address_pickle_set={}\n",
    "# for h in address_pickle_now:\n",
    "#     address_pickle_set[h]=set(address_pickle_now[h])"
   ]
  },
  {
   "cell_type": "code",
   "execution_count": null,
   "metadata": {},
   "outputs": [],
   "source": [
    "# #addressdict={}\n",
    "# addressdict_foody=[]\n",
    "# url_thuonghieu_=[]\n",
    "# for value in link_web_all_provinces:\n",
    "#     for length_agent in range(166):\n",
    "#         driver.get(f\"https://www.foody.vn/ho-chi-minh/dia-diem?ds=Restaurant&vt=row&st=1&page={length_agent}&provinceId=217&categoryId=&append=true\")\n",
    "#         print(f'{value.split(\"/\")[-2]}\\n')\n",
    "#         # store_len=0 ##check wheter it does load more items or not\n",
    "#         # for _ in range(1000):\n",
    "#         #     try:\n",
    "#         #         if store_len==len(driver.find_elements_by_class_name(\"resname\")):\n",
    "#         #             break\n",
    "#         #         html = driver.find_element_by_xpath('//*[@id=\"scrollLoadingPage\"]/a')\n",
    "#         #         store_len=len(driver.find_elements_by_class_name(\"resname\"))\n",
    "#         #         html.click()\n",
    "#         #         ActionChains(driver).send_keys(Keys.PAGE_DOWN).perform()\n",
    "#         #         sleep(10)\n",
    "#         #     except:\n",
    "#         #         sleep(10)\n",
    "#         #         continue\n",
    "#         # print(\"-----------------------\\n\")\n",
    "#         # print(len(driver.find_elements_by_class_name(\"resname\")))\n",
    "#         for h in driver.find_elements_by_class_name(\"resname\"):\n",
    "#             address_string=\"\"\n",
    "#             try:\n",
    "#                 if \"thuong-hieu\" not in h.find_element_by_tag_name(\"h2\").find_element_by_tag_name(\"a\").get_attribute(\"href\"):\n",
    "#                     for index,sub_text in enumerate(h.find_element_by_class_name(\"address\").find_elements_by_tag_name(\"span\")):\n",
    "#                             if index==len(h.find_element_by_class_name(\"address\").find_elements_by_tag_name(\"span\"))-1:\n",
    "#                                 address_string+=sub_text.text\n",
    "#                                 break\n",
    "#                             address_string+=sub_text.text+\", \"\n",
    "#                     address.append(address_string)\n",
    "#                 else:\n",
    "#                     link=h.find_element_by_tag_name(\"h2\").find_element_by_tag_name(\"a\").get_attribute(\"href\")\n",
    "#                     url_thuonghieu_.append(link)\n",
    "#                 ######\n",
    "#                 for _,k in tqdm(enumerate(url_thuonghieu_)):\n",
    "#                     driver.get(k)\n",
    "#                     for sub_adress in driver.find_elements_by_class_name(\"ldc-item-h-address\"):\n",
    "#                         address.append(sub_adress.find_element_by_tag_name(\"span\").text)\n",
    "#             except OSError as error :  \n",
    "#                     print(error) \n",
    "#         addressdict[value.split(\"/\")[-2]]=address"
   ]
  },
  {
   "cell_type": "code",
   "execution_count": null,
   "metadata": {},
   "outputs": [],
   "source": [
    "import json\n",
    "from tqdm import tqdm\n",
    "file_name=os.listdir(\"/Users/lelac/ResponseToFile-Postman/Responses\")\n",
    "path=\"/Users/lelac/ResponseToFile-Postman/Responses/\"\n",
    "dictionary_Address={}\n",
    "address=[]\n",
    "for _,x in tqdm(enumerate(file_name)):\n",
    "    with open(path+x) as f:\n",
    "        try:\n",
    "            data = json.load(f)\n",
    "        except:\n",
    "            continue\n",
    "    string_address_main=\"\"\n",
    "    for place_Address in data['searchItems']:\n",
    "        address.append(place_Address[\"Address\"]+\", \"+place_Address[\"District\"]+\", \"+place_Address[\"City\"])\n",
    "        if place_Address['SubItems']:\n",
    "            for sub_place in place_Address['SubItems']:\n",
    "                address.append(place_Address[\"Address\"]+\", \"+place_Address[\"District\"]+\", \"+place_Address[\"City\"])\n"
   ]
  },
  {
   "cell_type": "code",
   "execution_count": null,
   "metadata": {},
   "outputs": [],
   "source": [
    "address_pickle_set.keys()"
   ]
  },
  {
   "cell_type": "code",
   "execution_count": null,
   "metadata": {},
   "outputs": [],
   "source": [
    "alternatives={'phường':['ph','p'],\n",
    "'quận':['quan','q'],\n",
    "'thành phố':['thanh pho','tp','t p'],\n",
    "'Tp':['thanh pho','tp','t p'],\n",
    "'Thành phố':['thanh pho','tp','t p'],\n",
    "'thị xã':['thi xa','tx','t x'],\n",
    "'thị trấn':['thi tran','tt','t'],\n",
    "'TT':['thị trấn','thi tran','thị trấn','tt','t'],\n",
    "'P':['Phường','phường','phuong'],\n",
    "'xã':['Xã','xa'],\n",
    "}"
   ]
  },
  {
   "cell_type": "code",
   "execution_count": null,
   "metadata": {},
   "outputs": [],
   "source": [
    "## Change alternatives phrase"
   ]
  },
  {
   "cell_type": "code",
   "execution_count": null,
   "metadata": {},
   "outputs": [],
   "source": [
    "list(address_pickle_set['vung-tau'])[1].split(\" \")[-2]"
   ]
  },
  {
   "cell_type": "code",
   "execution_count": null,
   "metadata": {},
   "outputs": [],
   "source": [
    "list(address_pickle_set['vung-tau'])[:400]"
   ]
  },
  {
   "cell_type": "code",
   "execution_count": 1,
   "metadata": {},
   "outputs": [
    {
     "output_type": "stream",
     "name": "stderr",
     "text": [
      "Downloading: 100%|██████████| 786k/786k [00:01<00:00, 607kB/s]\n",
      "Downloading: 100%|██████████| 793k/793k [00:01<00:00, 608kB/s]\n",
      "Downloading: 100%|██████████| 1.26M/1.26M [00:01<00:00, 834kB/s]\n",
      "Downloading: 100%|██████████| 44.0/44.0 [00:00<00:00, 20.1kB/s]\n",
      "['>>zlm_Latn<<', '>>mfe<<', '>>hat<<', '>>pap<<', '>>ast<<', '>>cat<<', '>>ind<<', '>>glg<<', '>>wln<<', '>>spa<<', '>>fra<<', '>>ron<<', '>>por<<', '>>ita<<', '>>oci<<', '>>arg<<', '>>min<<']\n",
      "Downloading: 100%|██████████| 1.15k/1.15k [00:00<00:00, 605kB/s]\n",
      "Downloading: 100%|██████████| 295M/295M [00:52<00:00, 5.59MB/s]\n"
     ]
    },
    {
     "output_type": "execute_result",
     "data": {
      "text/plain": [
       "[\"c'est une phrase en anglais que nous voulons traduire en français\",\n",
       " 'Isto deve ir para o português',\n",
       " 'esto al español']"
      ]
     },
     "metadata": {},
     "execution_count": 1
    }
   ],
   "source": [
    "from transformers import MarianMTModel, MarianTokenizer\n",
    "src_text = [\n",
    "    '>>fra<< this is a sentence in english that we want to translate to french',\n",
    "    '>>por<< This should go to portuguese',\n",
    "    '>>esp<< And this to Spanish'\n",
    "]\n",
    "model_name = 'Helsinki-NLP/opus-mt-en-roa'\n",
    "tokenizer = MarianTokenizer.from_pretrained(model_name)\n",
    "print(tokenizer.supported_language_codes)\n",
    "model = MarianMTModel.from_pretrained(model_name)\n",
    "translated = model.generate(**tokenizer(src_text, return_tensors=\"pt\", padding=True))\n",
    "[tokenizer.decode(t, skip_special_tokens=True) for t in translated]"
   ]
  },
  {
   "cell_type": "code",
   "execution_count": null,
   "metadata": {},
   "outputs": [],
   "source": []
  }
 ]
}