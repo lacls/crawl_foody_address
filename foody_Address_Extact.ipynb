{
 "metadata": {
  "language_info": {
   "codemirror_mode": {
    "name": "ipython",
    "version": 3
   },
   "file_extension": ".py",
   "mimetype": "text/x-python",
   "name": "python",
   "nbconvert_exporter": "python",
   "pygments_lexer": "ipython3",
   "version": "3.8.5-final"
  },
  "orig_nbformat": 2,
  "kernelspec": {
   "name": "python3",
   "display_name": "Python 3.8.5 64-bit",
   "metadata": {
    "interpreter": {
     "hash": "082e9a3bcad0a290d0001e938aa60b99250c6c2ef33a923c00b70f9826caf4b7"
    }
   }
  }
 },
 "nbformat": 4,
 "nbformat_minor": 2,
 "cells": [
  {
   "cell_type": "code",
   "execution_count": 1,
   "metadata": {},
   "outputs": [],
   "source": [
    "from selenium import webdriver\n",
    "from selenium.webdriver.common.keys import Keys\n",
    "from bs4 import BeautifulSoup\n",
    "from time import sleep\n",
    "import csv\n",
    "import urllib\n",
    "from selenium.webdriver.common.action_chains import ActionChains\n",
    "import requests\n",
    "import json\n",
    "import re\n",
    "import tqdm\n",
    "import urllib.request\n",
    "import os\n",
    "from tqdm import tqdm\n",
    "from getpass import getpass\n",
    "# driver = webdriver.Chrome()\n",
    "# driver.get(\"https://www.foody.vn\")\n",
    "# page_source = BeautifulSoup(driver.page_source)\n",
    "\n",
    "# link_web_all_provinces=[]\n",
    "# for i in range(64):\n",
    "#     link_web_all_provinces.append(driver.find_element_by_css_selector('#popupLocation > ul > li > ul').find_elements_by_tag_name(\"a\")[i].get_attribute(\"href\")+\"/dia-diem?q=&ss=header_search_form\")\n",
    "\n",
    "# with open(\"foody_Address.txt\",\"w\") as f:\n",
    "#     for item in link_web_all_provinces:\n",
    "#         f.write(\"%s\\n\" % item)\n",
    "with open(\"foody_Address.txt\",\"r\") as f:\n",
    "    link_web_all_provinces=f.read().splitlines()"
   ]
  },
  {
   "cell_type": "code",
   "execution_count": null,
   "metadata": {},
   "outputs": [],
   "source": [
    "##log-in facebook\n",
    "\n",
    "driver = webdriver.Chrome()\n",
    "driver.get(\"https://id.foody.vn/account/login?returnUrl=https://www.foody.vn/\")\n",
    "html = driver.find_element_by_xpath('//*[@id=\"login-form\"]/fieldset/a[1]/div[2]')\n",
    "html.click()\n",
    "\n",
    "driver.get(\"https://www.facebook.com/login.php?skip_api_login=1&api_key=395614663835338&kid_directed_site=0&app_id=395614663835338&signed_next=1&next=https%3A%2F%2Fwww.facebook.com%2Fv2.2%2Fdialog%2Foauth%3Fclient_id%3D395614663835338%26redirect_uri%3Dhttps%253A%252F%252Fid.foody.vn%252Fsocialauth%252Fvalidate.sauth%26response_type%3Dcode%26scope%3Demail%26display%3Dpopup%26ret%3Dlogin%26fbapp_pres%3D0%26logger_id%3D9e3437aa-aa49-4430-9115-e99d795d4ec7%26tp%3Dunspecified&cancel_url=https%3A%2F%2Fid.foody.vn%2Fsocialauth%2Fvalidate.sauth%3Ferror%3Daccess_denied%26error_code%3D200%26error_description%3DPermissions%2Berror%26error_reason%3Duser_denied%23_%3D_&display=popup&locale=vi_VN&pl_dbl=0\")\n",
    "\n",
    "account=input(\"silacpoc@yahoo.com\")\n",
    "password=getpass(\"LacLS1810\")\n",
    "tel_box=driver.find_element_by_xpath('//*[@id=\"email\"]')\n",
    "tel_box.send_keys(account)\n",
    "\n",
    "\n",
    "key_box=driver.find_element_by_id(\"pass\")\n",
    "key_box.send_keys(password)\n",
    "html=driver.find_element_by_xpath('//*[@id=\"pass\"]')\n",
    "html.click()\n"
   ]
  },
  {
   "cell_type": "code",
   "execution_count": 10,
   "metadata": {},
   "outputs": [],
   "source": [
    "driver = webdriver.Chrome()\n",
    "driver.get(\"https://foody.vn\")"
   ]
  },
  {
   "cell_type": "code",
   "execution_count": 9,
   "metadata": {},
   "outputs": [
    {
     "output_type": "error",
     "ename": "InvalidSessionIdException",
     "evalue": "Message: invalid session id\n",
     "traceback": [
      "\u001b[0;31m---------------------------------------------------------------------------\u001b[0m",
      "\u001b[0;31mInvalidSessionIdException\u001b[0m                 Traceback (most recent call last)",
      "\u001b[0;32m<ipython-input-9-5bfdb5e28a59>\u001b[0m in \u001b[0;36m<module>\u001b[0;34m\u001b[0m\n\u001b[1;32m      3\u001b[0m \u001b[0;32mfor\u001b[0m \u001b[0mvalue\u001b[0m \u001b[0;32min\u001b[0m \u001b[0mlink_web_all_provinces\u001b[0m\u001b[0;34m:\u001b[0m\u001b[0;34m\u001b[0m\u001b[0;34m\u001b[0m\u001b[0m\n\u001b[1;32m      4\u001b[0m     \u001b[0mvalue\u001b[0m\u001b[0;34m=\u001b[0m\u001b[0mvalue\u001b[0m\u001b[0;34m.\u001b[0m\u001b[0mreplace\u001b[0m\u001b[0;34m(\u001b[0m\u001b[0;34m\"o-dau\"\u001b[0m\u001b[0;34m,\u001b[0m\u001b[0;34m\"dia-diem?q=&ss=header_search_form\"\u001b[0m\u001b[0;34m)\u001b[0m\u001b[0;34m\u001b[0m\u001b[0;34m\u001b[0m\u001b[0m\n\u001b[0;32m----> 5\u001b[0;31m     \u001b[0mdriver\u001b[0m\u001b[0;34m.\u001b[0m\u001b[0mget\u001b[0m\u001b[0;34m(\u001b[0m\u001b[0mvalue\u001b[0m\u001b[0;34m)\u001b[0m\u001b[0;34m\u001b[0m\u001b[0;34m\u001b[0m\u001b[0m\n\u001b[0m\u001b[1;32m      6\u001b[0m     \u001b[0maddress\u001b[0m\u001b[0;34m=\u001b[0m\u001b[0;34m[\u001b[0m\u001b[0;34m]\u001b[0m\u001b[0;34m\u001b[0m\u001b[0;34m\u001b[0m\u001b[0m\n\u001b[1;32m      7\u001b[0m     \u001b[0mprint\u001b[0m\u001b[0;34m(\u001b[0m\u001b[0;34mf'{value.split(\"/\")[-2]}\\n'\u001b[0m\u001b[0;34m)\u001b[0m\u001b[0;34m\u001b[0m\u001b[0;34m\u001b[0m\u001b[0m\n",
      "\u001b[0;32m/Library/Frameworks/Python.framework/Versions/3.8/lib/python3.8/site-packages/selenium/webdriver/remote/webdriver.py\u001b[0m in \u001b[0;36mget\u001b[0;34m(self, url)\u001b[0m\n\u001b[1;32m    331\u001b[0m         \u001b[0mLoads\u001b[0m \u001b[0ma\u001b[0m \u001b[0mweb\u001b[0m \u001b[0mpage\u001b[0m \u001b[0;32min\u001b[0m \u001b[0mthe\u001b[0m \u001b[0mcurrent\u001b[0m \u001b[0mbrowser\u001b[0m \u001b[0msession\u001b[0m\u001b[0;34m.\u001b[0m\u001b[0;34m\u001b[0m\u001b[0;34m\u001b[0m\u001b[0m\n\u001b[1;32m    332\u001b[0m         \"\"\"\n\u001b[0;32m--> 333\u001b[0;31m         \u001b[0mself\u001b[0m\u001b[0;34m.\u001b[0m\u001b[0mexecute\u001b[0m\u001b[0;34m(\u001b[0m\u001b[0mCommand\u001b[0m\u001b[0;34m.\u001b[0m\u001b[0mGET\u001b[0m\u001b[0;34m,\u001b[0m \u001b[0;34m{\u001b[0m\u001b[0;34m'url'\u001b[0m\u001b[0;34m:\u001b[0m \u001b[0murl\u001b[0m\u001b[0;34m}\u001b[0m\u001b[0;34m)\u001b[0m\u001b[0;34m\u001b[0m\u001b[0;34m\u001b[0m\u001b[0m\n\u001b[0m\u001b[1;32m    334\u001b[0m \u001b[0;34m\u001b[0m\u001b[0m\n\u001b[1;32m    335\u001b[0m     \u001b[0;34m@\u001b[0m\u001b[0mproperty\u001b[0m\u001b[0;34m\u001b[0m\u001b[0;34m\u001b[0m\u001b[0m\n",
      "\u001b[0;32m/Library/Frameworks/Python.framework/Versions/3.8/lib/python3.8/site-packages/selenium/webdriver/remote/webdriver.py\u001b[0m in \u001b[0;36mexecute\u001b[0;34m(self, driver_command, params)\u001b[0m\n\u001b[1;32m    319\u001b[0m         \u001b[0mresponse\u001b[0m \u001b[0;34m=\u001b[0m \u001b[0mself\u001b[0m\u001b[0;34m.\u001b[0m\u001b[0mcommand_executor\u001b[0m\u001b[0;34m.\u001b[0m\u001b[0mexecute\u001b[0m\u001b[0;34m(\u001b[0m\u001b[0mdriver_command\u001b[0m\u001b[0;34m,\u001b[0m \u001b[0mparams\u001b[0m\u001b[0;34m)\u001b[0m\u001b[0;34m\u001b[0m\u001b[0;34m\u001b[0m\u001b[0m\n\u001b[1;32m    320\u001b[0m         \u001b[0;32mif\u001b[0m \u001b[0mresponse\u001b[0m\u001b[0;34m:\u001b[0m\u001b[0;34m\u001b[0m\u001b[0;34m\u001b[0m\u001b[0m\n\u001b[0;32m--> 321\u001b[0;31m             \u001b[0mself\u001b[0m\u001b[0;34m.\u001b[0m\u001b[0merror_handler\u001b[0m\u001b[0;34m.\u001b[0m\u001b[0mcheck_response\u001b[0m\u001b[0;34m(\u001b[0m\u001b[0mresponse\u001b[0m\u001b[0;34m)\u001b[0m\u001b[0;34m\u001b[0m\u001b[0;34m\u001b[0m\u001b[0m\n\u001b[0m\u001b[1;32m    322\u001b[0m             response['value'] = self._unwrap_value(\n\u001b[1;32m    323\u001b[0m                 response.get('value', None))\n",
      "\u001b[0;32m/Library/Frameworks/Python.framework/Versions/3.8/lib/python3.8/site-packages/selenium/webdriver/remote/errorhandler.py\u001b[0m in \u001b[0;36mcheck_response\u001b[0;34m(self, response)\u001b[0m\n\u001b[1;32m    240\u001b[0m                 \u001b[0malert_text\u001b[0m \u001b[0;34m=\u001b[0m \u001b[0mvalue\u001b[0m\u001b[0;34m[\u001b[0m\u001b[0;34m'alert'\u001b[0m\u001b[0;34m]\u001b[0m\u001b[0;34m.\u001b[0m\u001b[0mget\u001b[0m\u001b[0;34m(\u001b[0m\u001b[0;34m'text'\u001b[0m\u001b[0;34m)\u001b[0m\u001b[0;34m\u001b[0m\u001b[0;34m\u001b[0m\u001b[0m\n\u001b[1;32m    241\u001b[0m             \u001b[0;32mraise\u001b[0m \u001b[0mexception_class\u001b[0m\u001b[0;34m(\u001b[0m\u001b[0mmessage\u001b[0m\u001b[0;34m,\u001b[0m \u001b[0mscreen\u001b[0m\u001b[0;34m,\u001b[0m \u001b[0mstacktrace\u001b[0m\u001b[0;34m,\u001b[0m \u001b[0malert_text\u001b[0m\u001b[0;34m)\u001b[0m\u001b[0;34m\u001b[0m\u001b[0;34m\u001b[0m\u001b[0m\n\u001b[0;32m--> 242\u001b[0;31m         \u001b[0;32mraise\u001b[0m \u001b[0mexception_class\u001b[0m\u001b[0;34m(\u001b[0m\u001b[0mmessage\u001b[0m\u001b[0;34m,\u001b[0m \u001b[0mscreen\u001b[0m\u001b[0;34m,\u001b[0m \u001b[0mstacktrace\u001b[0m\u001b[0;34m)\u001b[0m\u001b[0;34m\u001b[0m\u001b[0;34m\u001b[0m\u001b[0m\n\u001b[0m\u001b[1;32m    243\u001b[0m \u001b[0;34m\u001b[0m\u001b[0m\n\u001b[1;32m    244\u001b[0m     \u001b[0;32mdef\u001b[0m \u001b[0m_value_or_default\u001b[0m\u001b[0;34m(\u001b[0m\u001b[0mself\u001b[0m\u001b[0;34m,\u001b[0m \u001b[0mobj\u001b[0m\u001b[0;34m,\u001b[0m \u001b[0mkey\u001b[0m\u001b[0;34m,\u001b[0m \u001b[0mdefault\u001b[0m\u001b[0;34m)\u001b[0m\u001b[0;34m:\u001b[0m\u001b[0;34m\u001b[0m\u001b[0;34m\u001b[0m\u001b[0m\n",
      "\u001b[0;31mInvalidSessionIdException\u001b[0m: Message: invalid session id\n"
     ]
    }
   ],
   "source": [
    "addressdict={}\n",
    "url_thuonghieu_=[]\n",
    "for value in link_web_all_provinces:\n",
    "    value=value.replace(\"o-dau\",\"dia-diem?q=&ss=header_search_form\")\n",
    "    driver.get(value)\n",
    "    address=[]\n",
    "    print(f'{value.split(\"/\")[-2]}\\n')\n",
    "    store_len=0 ##check wheter it does load more items or not\n",
    "    for _ in range(5000):\n",
    "     \n",
    "        try:\n",
    "            if store_len==len(driver.find_elements_by_class_name(\"resname\")):\n",
    "                break\n",
    "            html = driver.find_element_by_xpath('//*[@id=\"scrollLoadingPage\"]/a')\n",
    "            store_len=len(driver.find_elements_by_class_name(\"resname\"))\n",
    "            html.click()\n",
    "            ActionChains(driver).send_keys(Keys.PAGE_DOWN).perform()\n",
    "            sleep(4)\n",
    "        except:\n",
    "            sleep(10)\n",
    "            continue\n",
    "    print(\"-----------------------\\n\")\n",
    "    print(len(driver.find_elements_by_class_name(\"resname\")))\n",
    "    for h in driver.find_elements_by_class_name(\"resname\"):\n",
    "        address_string=\"\"\n",
    "        try:\n",
    "            if \"thuong-hieu\" not in h.find_element_by_tag_name(\"h2\").find_element_by_tag_name(\"a\").get_attribute(\"href\"):\n",
    "              for index,sub_text in enumerate(h.find_element_by_class_name(\"address\").find_elements_by_tag_name(\"span\")):\n",
    "                    if index==len(h.find_element_by_class_name(\"address\").find_elements_by_tag_name(\"span\"))-1:\n",
    "                        address_string+=sub_text.text\n",
    "                        break\n",
    "                    address_string+=sub_text.text+\", \"\n",
    "              address.append(address_string)\n",
    "            else:\n",
    "                link=h.find_element_by_tag_name(\"h2\").find_element_by_tag_name(\"a\").get_attribute(\"href\")\n",
    "                url_thuonghieu_.append(link)\n",
    "            ######\n",
    "            for _,h in tqdm(enumerate(url_thuonghieu_)):\n",
    "                driver.get(h)\n",
    "                for sub_adress in driver.find_elements_by_class_name(\"ldc-item-h-address\"):\n",
    "                    address.append(sub_adress.find_element_by_tag_name(\"span\").text)\n",
    "        except OSError as error :  \n",
    "                print(error) \n",
    "    addressdict[value.split(\"/\")[-2]]=address"
   ]
  },
  {
   "cell_type": "code",
   "execution_count": 45,
   "metadata": {},
   "outputs": [
    {
     "output_type": "execute_result",
     "data": {
      "text/plain": [
       "['https://www.foody.vn/thuong-hieu/morico-modern-japanese-restaurant-cafe?c=ho-chi-minh',\n",
       " 'https://www.foody.vn/thuong-hieu/pizza-4p-s-pizza-kieu-nhat?c=ho-chi-minh',\n",
       " 'https://www.foody.vn/thuong-hieu/monkey-in-black-cafe?c=ho-chi-minh',\n",
       " 'https://www.foody.vn/thuong-hieu/hanuri-mon-an-han-quoc?c=ho-chi-minh',\n",
       " 'https://www.foody.vn/thuong-hieu/starbucks-coffee-ho-chi-minh?c=ho-chi-minh',\n",
       " 'https://www.foody.vn/thuong-hieu/buzza-pizza?c=ho-chi-minh',\n",
       " 'https://www.foody.vn/thuong-hieu/partea?c=ho-chi-minh',\n",
       " 'https://www.foody.vn/thuong-hieu/marukame-udon?c=ho-chi-minh',\n",
       " 'https://www.foody.vn/thuong-hieu/paris-baguette?c=ho-chi-minh',\n",
       " 'https://www.foody.vn/thuong-hieu/baoz-dimsum-restaurant?c=ho-chi-minh',\n",
       " 'https://www.foody.vn/thuong-hieu/sushi-bar?c=ho-chi-minh',\n",
       " 'https://www.foody.vn/thuong-hieu/morico-modern-japanese-restaurant-cafe?c=ho-chi-minh']"
      ]
     },
     "metadata": {},
     "execution_count": 45
    }
   ],
   "source": [
    "url_thuonghieu_"
   ]
  },
  {
   "cell_type": "code",
   "execution_count": 46,
   "metadata": {},
   "outputs": [
    {
     "output_type": "execute_result",
     "data": {
      "text/plain": [
       "[]"
      ]
     },
     "metadata": {},
     "execution_count": 46
    }
   ],
   "source": [
    "driver.find_elements_by_class_name(\"resname\")"
   ]
  },
  {
   "cell_type": "code",
   "execution_count": 47,
   "metadata": {},
   "outputs": [
    {
     "output_type": "execute_result",
     "data": {
      "text/plain": [
       "['30 Lê Lợi, P. Bến Nghé, Quận 1, TP. HCM',\n",
       " 'Tầng B3 Vincom Center, 70 - 72 Lê Thánh Tôn, P. Bến Nghé, Quận 1, TP. HCM',\n",
       " 'Saigon Pearl, 92 Nguyễn Hữu Cảnh, Quận Bình Thạnh, TP. HCM',\n",
       " 'Mplaza Saigon, 39 Lê Duẩn, P. Bến Nghé, Quận 1, TP. HCM',\n",
       " 'Tầng 2 Crescent Mall, 101 Tôn Dật Tiên, P. Tân Phú, Quận 7, TP. HCM',\n",
       " '11 Mạc Đĩnh Chi, P. Bến Nghé, Quận 1, TP. HCM',\n",
       " 'Đảo Kim Cương, P. Bình Trưng Tây, Quận 2, TP. HCM',\n",
       " '8/15 Lê Thánh Tôn, P. Bến Nghé, Quận 1, TP. HCM',\n",
       " 'Lô MD2, Nguyễn Văn Linh, P Tân Phú, Quận 7, TP. HCM',\n",
       " '8 Thủ Khoa Huân, P. Bến Thành, Quận 1, TP. HCM',\n",
       " '01 - 2 Lầu 6 Saigon Centre, 65 Lê Lợi, P. Bến Nghé, Quận 1, TP. HCM',\n",
       " '151 Hai Bà Trưng, Quận 3, TP. HCM',\n",
       " '608 Võ Văn Kiệt, P. Cầu Kho, Quận 1, TP. HCM',\n",
       " '48/1 Xuân Thủy, P. Thảo Điền, Quận 2, TP. HCM',\n",
       " '184 Lê Đại Hành, P. 15, Quận 11, TP. HCM',\n",
       " '88 Song Hành, P. An Phú, Quận 2, TP. HCM',\n",
       " 'Tầng Trệt, Ruby Home 1, 92 Nguyễn Hữu Cảnh, P. 22, Quận Bình Thạnh, TP. HCM',\n",
       " '263 Trần Quang Khải, P. Tân Định, Quận 1, TP. HCM',\n",
       " '698 Sư Vạn Hạnh, Quận 10, TP. HCM',\n",
       " '736 Sư Vạn Hạnh, P. 12, Quận 10, TP. HCM',\n",
       " '284A Nguyễn Đình Chiểu, P. 6, Quận 3, TP. HCM',\n",
       " '121 Xô Viết Nghệ Tĩnh, P. 17, Quận Bình Thạnh, TP. HCM',\n",
       " '531 Điện Biên Phủ, P. 3, Quận 3, TP. HCM',\n",
       " '51 Cộng Hòa, P. 4, Quận Tân Bình, TP. HCM',\n",
       " '530 - 532 Phan Văn Trị, P. 7, Quận Gò Vấp, TP. HCM',\n",
       " 'Góc Phạm Hồng Thái & Nguyễn Thị Nghĩa, Quận 1, TP. HCM',\n",
       " 'Rex Hotel, 141 Nguyễn Huệ, P. Bến Nghé, Quận 1, TP. HCM',\n",
       " '214 - 216 Phan Xích Long, Quận Phú Nhuận, TP. HCM',\n",
       " '208 Trần Văn Trà, Quận 7, TP. HCM',\n",
       " 'Tầng Trệt Pandora City, 1/1 Trường Chinh, P. Tây Thạnh, Quận Tân Phú, TP. HCM',\n",
       " 'Tầng 1 - SC VivoCity, 1058 Nguyễn Văn Linh, KP. 1, P. Tân Phong, Quận 7, TP. HCM',\n",
       " 'Mplaza Saigon, 39 Lê Duẩn, P. Bến Nghé, Quận 1, TP. HCM',\n",
       " '21 Thảo Điền, P. Thảo Điền, Quận 2, TP. HCM',\n",
       " 'L1 - 06A + 06B 561 Điện Biên Phủ, P. 25, Quận Bình Thạnh, TP. HCM',\n",
       " '99 Nguyễn Huệ, P. Bến Nghé, Quận 1, TP. HCM',\n",
       " 'Emart, 366 Phan Văn Trị, P. 5, Quận Gò Vấp, TP. HCM',\n",
       " '98 Nguyễn Tri Phương, Quận 5, TP. HCM',\n",
       " 'Tầng 3, 5-7-9 Nguyễn Trung Trực, P. Bến Thành, Quận 1, TP. HCM',\n",
       " 'Tầng Trệt Emart Gò Vấp - 366 Phan Văn Trị, P. 5, Quận Gò Vấp, TP. HCM',\n",
       " 'Tầng 1, 51 - 53 Nguyễn Thị Thập, P. Tân Hưng, Quận 7, TP. HCM',\n",
       " 'Tầng 4 Nowzone, 235 Nguyễn Văn Cừ, P. Nguyễn Cư Trinh, Quận 1, TP. HCM',\n",
       " 'Tầng 4, 42 Nguyễn Huệ, Quận 1, TP. HCM',\n",
       " '240 Nguyễn Thị Minh Khai, P. 6, Quận 3, TP. HCM',\n",
       " 'Tầng 4, 42 Nguyễn Huệ, Quận 1, TP. HCM',\n",
       " 'Tầng 3 AEON Mall Tân Phú, 30 Bờ Bao Tân Thắng, P. Sơn Kỳ, Quận Tân Phú, TP. HCM',\n",
       " '215 Lý Tự Trọng, P. Bến Thành, Quận 1, TP. HCM',\n",
       " 'Tầng 2 - SC VivoCity, 1058 Nguyễn Văn Linh, KP. 1, P. Tân Phong, Quận 7, TP. HCM',\n",
       " '342 - 344 Hai Bà Trưng, P. Tân Định, Quận 1, TP. HCM',\n",
       " 'Lô T5, Tầng 3, Aeon Mall Bình Tân, 1 Đường Số 17A, P. Bình Trị Đông, Quận Bình Tân, TP. HCM',\n",
       " '27 Thảo Điền, P. Thảo Điền, Quận 2, TP. HCM',\n",
       " 'Tầng 6, 6-08&7A Vạn Hạnh Mall, 11 Sư Vạn Hạnh, P. 12, Quận 10, TP. HCM',\n",
       " '1 Cao Thắng, P. 2, Quận 3, TP. HCM',\n",
       " 'Khu Phố Sky Garden 2, Phạm Văn Nghị - Bắc, P. Tân Phong, Quận 7, TP. HCM',\n",
       " 'G23 AEON Mall Tân Phú, 30 Bờ Bao Tân Thắng, P. Sơn Kỳ, Quận Tân Phú, TP. HCM',\n",
       " '190B Hoàng Văn Thụ, P. 4, Quận Tân Bình, TP. HCM',\n",
       " 'B0.03 Scenic Valley 2, 801 Nguyễn Văn Linh, P. Tân Phú, Quận 7, TP. HCM',\n",
       " '26 Thảo Điền, P. Thảo Điền, Quận 2, TP. HCM',\n",
       " '88 Nguyễn Tri Phương, P. 7, Quận 5, TP. HCM',\n",
       " 'Tầng Trệt The Garden Mall, 190 Hồng Bàng, P. 12, Quận 5, TP. HCM',\n",
       " '179B Hai Bà Trưng, P. 6, Quận 3, TP. HCM',\n",
       " '179 Hai Bà Trưng, P. 6, Quận 3, TP. HCM',\n",
       " '73 Hoàng Văn Thái, P. Tân Phú, Quận 7, TP. HCM',\n",
       " '149 Nguyễn Đình Chiểu , Quận 3, TP. HCM',\n",
       " '30 Lê Lợi, P. Bến Nghé, Quận 1, TP. HCM',\n",
       " 'Tầng B3 Vincom Center, 70 - 72 Lê Thánh Tôn, P. Bến Nghé, Quận 1, TP. HCM',\n",
       " 'Saigon Pearl, 92 Nguyễn Hữu Cảnh, Quận Bình Thạnh, TP. HCM',\n",
       " 'Mplaza Saigon, 39 Lê Duẩn, P. Bến Nghé, Quận 1, TP. HCM',\n",
       " 'Tầng 2 Crescent Mall, 101 Tôn Dật Tiên, P. Tân Phú, Quận 7, TP. HCM',\n",
       " '11 Mạc Đĩnh Chi, P. Bến Nghé, Quận 1, TP. HCM',\n",
       " 'Đảo Kim Cương, P. Bình Trưng Tây, Quận 2, TP. HCM']"
      ]
     },
     "metadata": {},
     "execution_count": 47
    }
   ],
   "source": [
    "address"
   ]
  },
  {
   "cell_type": "code",
   "execution_count": null,
   "metadata": {},
   "outputs": [],
   "source": []
  }
 ]
}