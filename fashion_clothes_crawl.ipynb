{
 "metadata": {
  "language_info": {
   "codemirror_mode": {
    "name": "ipython",
    "version": 3
   },
   "file_extension": ".py",
   "mimetype": "text/x-python",
   "name": "python",
   "nbconvert_exporter": "python",
   "pygments_lexer": "ipython3",
   "version": "3.7.6-final"
  },
  "orig_nbformat": 2,
  "kernelspec": {
   "name": "python3",
   "display_name": "Python 3",
   "language": "python"
  }
 },
 "nbformat": 4,
 "nbformat_minor": 2,
 "cells": [
  {
   "source": [
    "from selenium import webdriver\n",
    "from selenium.webdriver.common.keys import Keys\n",
    "from bs4 import BeautifulSoup\n",
    "from time import sleep\n",
    "import csv\n",
    "import urllib\n",
    "from selenium.webdriver.common.action_chains import ActionChains\n",
    "import requests\n",
    "import json\n",
    "import re\n",
    "import tqdm\n",
    "import urllib.request\n",
    "import os\n",
    "from tqdm import tqdm"
   ],
   "cell_type": "code",
   "metadata": {},
   "execution_count": 1,
   "outputs": []
  },
  {
   "cell_type": "code",
   "execution_count": null,
   "metadata": {},
   "outputs": [],
   "source": [
    "# VASCARA GET LINK\n",
    "for _ in range(300):\n",
    "    try: \n",
    "        html = driver.find_element_by_xpath(\"/html/body/div/div[2]/div[4]/a\")\n",
    "        html.click()\n",
    "        ActionChains(driver).send_keys(Keys.PAGE_DOWN).perform()\n",
    "        #html.send_keys(Keys.END)\n",
    "    except:\n",
    "        continue\n",
    "path=\"/Users/lelac/Downloads/Pic/VASCARA/giay\"\n",
    "os.makedirs(path,exist_ok=True) \n",
    "driver.find_elements_by_class_name(\"product-image\")[0].find_element_by_tag_name(\"a\").get_attribute(\"href\")\n",
    "product_link=[]\n",
    "for product_id in driver.find_elements_by_class_name(\"product-image\"):\n",
    "    product_link.append(product_id.find_element_by_tag_name(\"a\").get_attribute(\"href\"))\n",
    "\n",
    "##Download data\n",
    "import uuid\n",
    "\n",
    "for product in product_link:\n",
    "    if \"balo\" not in product:\n",
    "        driver.get(product)\n",
    "        tag_a=driver.find_element_by_css_selector(\"body > div > div.page-content > div:nth-child(2) > div.container > div > div.col-xl-7.col-lg-7.col-md-12.col-sm-12.col-xs-12 > div.group-images > div\").find_elements_by_tag_name(\"a\")\n",
    "        id_=uuid.uuid4().hex\n",
    "        path=f\"/Users/lelac/Downloads/Pic/VASCARA/giay/{id_}\"\n",
    "        os.makedirs(path,exist_ok=True) \n",
    "        for tag in tag_a:\n",
    "            opener = urllib.request.URLopener()\n",
    "            opener.addheader('User-Agent', 'whatever')\n",
    "            product=tag.get_attribute(\"href\")\n",
    "            pos = len(product) - product[::-1].index('/')\n",
    "            hdr = {'User-Agent': 'Mozilla/5.0 (X11; Linux x86_64) AppleWebKit/537.11 (KHTML, like Gecko) Chrome/23.0.1271.64 Safari/537.11',\n",
    "                    'Accept': 'text/html,application/xhtml+xml,application/xml;q=0.9,*/*;q=0.8',\n",
    "                    'Accept-Charset': 'ISO-8859-1,utf-8;q=0.7,*;q=0.3',\n",
    "                    'Accept-Encoding': 'none',\n",
    "                    'Accept-Language': 'en-US,en;q=0.8',\n",
    "                    'Connection': 'keep-alive'}\n",
    "            try: \n",
    "                opener.retrieve(product, \"/\".join([path, product[pos:]]))\n",
    "            except OSError as error :  \n",
    "                print(error) \n",
    "                #sleep(2)\n",
    "\n"
   ]
  },
  {
   "cell_type": "code",
   "execution_count": null,
   "metadata": {},
   "outputs": [],
   "source": [
    "##H&M Get Link\n",
    "link_product=[driver.find_elements_by_class_name(\"image-container\")[i].find_element_by_tag_name(\"a\").get_attribute(\"href\") for i in range(len(driver.find_elements_by_class_name(\"image-container\")))]\n",
    "\n",
    "import os\n",
    "path=\"/Users/lelac/Downloads/Pic/H&M/BAG\"\n",
    "os.makedirs(path,exist_ok=True) \n",
    "#len(link_product),link_product"
   ]
  },
  {
   "cell_type": "code",
   "execution_count": null,
   "metadata": {},
   "outputs": [],
   "source": [
    "for product_itesm in link_product:import uuid\n",
    "get(product_itesm)\n",
    "    link_donwload=[]\n",
    "    for i in range(1,len(driver.find_elements_by_tag_name(\"figure\"))):\n",
    "        try: \n",
    "            link_donwload.append(driver.find_elements_by_tag_name(\"figure\")[i].find_element_by_tag_name(\"img\").get_attribute(\"src\").split(\",\")[0].split(\" \")[0].replace(\"//\",\"\"))\n",
    "        except:\n",
    "            continue\n",
    "    try:\n",
    "        link_donwload.append(driver.find_elements_by_tag_name(\"figure\")[0].find_element_by_tag_name(\"img\").get_attribute(\"srcset\").split(\",\")[0].split(\" \")[0].replace(\"//\",\"\"))\n",
    "    except:\n",
    "        link_donwload.append(driver.find_elements_by_tag_name(\"figure\")[0].find_element_by_tag_name(\"img\").get_attribute(\"src\").split(\",\")[0].split(\" \")[0].replace(\"//\",\"\"))\n",
    "    opener = urllib.request.URLopener()\n",
    "    opener.addheader('User-Agent', 'whatever')\n",
    "    id_=uuid.uuid4().hex\n",
    "    i=0\n",
    "    for product in link_donwload:\n",
    "            pos = len(product) - product[::-1].index('/')\n",
    "            hdr = {'User-Agent': 'Mozilla/5.0 (X11; Linux x86_64) AppleWebKit/537.11 (KHTML, like Gecko) Chrome/23.0.1271.64 Safari/537.11',\n",
    "                  'Accept': 'text/html,application/xhtml+xml,application/xml;q=0.9,*/*;q=0.8',\n",
    "                  'Accept-Charset': 'ISO-8859-1,utf-8;q=0.7,*;q=0.3',\n",
    "                  'Accept-Encoding': 'none',\n",
    "                  'Accept-Language': 'en-US,en;q=0.8',\n",
    "                  'Connection': 'keep-alive'}\n",
    "            try: \n",
    "               opener.retrieve(product.replace(\"https:\",\"https://\"), \"/\".join([path, f\"{id_}_{i}.png\"]))\n",
    "            except OSError as error :  \n",
    "               print(error) \n",
    "            sleep(2)\n",
    "            i+=1\n",
    "    i=0\n"
   ]
  },
  {
   "cell_type": "code",
   "execution_count": null,
   "metadata": {},
   "outputs": [],
   "source": [
    "##ZARA\n",
    "\n",
    "\n",
    "url=\"https://www.zara.com/vn/en/category/1719123/products?&ajax=true\"\n",
    "\n",
    "driver.get(url)\n",
    "\n",
    "soup = BeautifulSoup(driver.page_source, \"html.parser\")\n",
    "\n",
    "soup=str(soup)\n",
    "\n",
    "seo_tag=[m.start() for m in re.finditer('\"seo\":', soup)]\n",
    "discernProductId=[m.start() for m in re.finditer('\"discernProductId\":', soup)]\n",
    "link_items=[]\n",
    "for i in range(len(seo_tag)):\n",
    "    res = json.loads(\"{\"+soup[seo_tag[i]+7:discernProductId[i]-1]+\"}\") \n",
    "    if res['keyword']==\"\" or res['seoProductId']==\"\":\n",
    "        continue\n",
    "    link_items.append(f\"https://www.zara.com/vn/en/{res['keyword']}-p{res['seoProductId']}.html\")\n",
    "link_items=list(set(link_items))"
   ]
  },
  {
   "cell_type": "code",
   "execution_count": 3,
   "metadata": {},
   "outputs": [
    {
     "output_type": "execute_result",
     "data": {
      "text/plain": [
       "[<a class=\"link-vl-2\" data-eventlabel=\"Giày Sneakers\" href=\"https://juno.vn/collections/giay-sneakers?itm_source=homepage&amp;itm_medium=smn&amp;itm_campaign=sp&amp;itm_content=giaysneakers\">Giày Sneakers</a>,\n",
       " <a class=\"link-vl-2\" data-eventlabel=\"Giày cao gót\" href=\"https://juno.vn/collections/giay-cao-got?itm_source=homepage&amp;itm_medium=smn&amp;itm_campaign=sp&amp;itm_content=giaycaogot\">Giày cao gót</a>,\n",
       " <a class=\"link-vl-2\" data-eventlabel=\"Giày xăng đan\" href=\"https://juno.vn/collections/giay-xang-dan?itm_source=homepage&amp;itm_medium=smn&amp;itm_campaign=sp&amp;itm_content=giayxangdan\">Giày xăng đan</a>,\n",
       " <a class=\"link-vl-2\" data-eventlabel=\"Giày búp bê\" href=\"https://juno.vn/collections/giay-bup-be?itm_source=homepage&amp;itm_medium=smn&amp;itm_campaign=sp&amp;itm_content=giaybupbe\">Giày búp bê</a>,\n",
       " <a class=\"link-vl-2\" data-eventlabel=\"Giày boot\" href=\"https://juno.vn/collections/giay-boots?itm_source=homepage&amp;itm_medium=smn&amp;itm_campaign=sp&amp;itm_content=giayboots\">Giày boot</a>,\n",
       " <a class=\"link-vl-2\" data-eventlabel=\"Dép guốc\" href=\"https://juno.vn/collections/dep-guoc?itm_source=homepage&amp;itm_medium=smn&amp;itm_campaign=sp&amp;itm_content=depguoc\">Dép guốc</a>,\n",
       " <a class=\"link-vl-2\" data-eventlabel=\"Túi cỡ nhỏ\" href=\"https://juno.vn/collections/tui-xach-co-nho?itm_source=homepage&amp;itm_medium=smn&amp;itm_campaign=sp&amp;itm_content=txn\">Túi cỡ nhỏ</a>,\n",
       " <a class=\"link-vl-2\" data-eventlabel=\"Túi cỡ trung\" href=\"https://juno.vn/collections/tui-xach-co-trung?itm_source=homepage&amp;itm_medium=smn&amp;itm_campaign=sp&amp;itm_content=txt\">Túi cỡ trung</a>,\n",
       " <a class=\"link-vl-2\" data-eventlabel=\"Túi cỡ lớn\" href=\"https://juno.vn/collections/tui-xach-co-lon?itm_source=homepage&amp;itm_medium=smn&amp;itm_campaign=sp&amp;itm_content=txl\">Túi cỡ lớn</a>,\n",
       " <a class=\"link-vl-2\" data-eventlabel=\"Balo\" href=\"https://juno.vn/collections/ba-lo-thoi-trang?itm_source=homepage&amp;itm_medium=smn&amp;itm_campaign=sp&amp;itm_content=balo\">Balo</a>,\n",
       " <a class=\"link-vl-2\" data-eventlabel=\"Ví - Clutch\" href=\"https://juno.vn/collections/vi-cam-tay?itm_source=homepage&amp;itm_medium=smn&amp;itm_campaign=sp&amp;itm_content=vi\">Ví - Clutch</a>,\n",
       " <a class=\"link-vl-2\" data-eventlabel=\"Mắt kính\" href=\"https://juno.vn/collections/mat-kinh?itm_source=homepage&amp;itm_medium=smn&amp;itm_campaign=sp&amp;itm_content=matkinh\">Mắt kính</a>,\n",
       " <a class=\"link-vl-2\" data-eventlabel=\"Trang Sức\" href=\"https://juno.vn/collections/trang-suc?itm_source=homepage&amp;itm_medium=smn&amp;itm_campaign=sp&amp;itm_content=trangsuc\">Trang Sức</a>,\n",
       " <a class=\"link-vl-2\" data-eventlabel=\"Vớ\" href=\"https://juno.vn/collections/vo?itm_source=homepage&amp;itm_medium=smn&amp;itm_campaign=sp&amp;itm_content=vo\">Vớ</a>,\n",
       " <a class=\"link-vl-2\" data-eventlabel=\"Juno Sneakers Thả Thính Tình yêu\" href=\"https://juno.vn/collections/juno-sneakers-tha-thinh-tinh-yeu?itm_source=homepage&amp;itm_medium=menu&amp;itm_campaign=sneakers&amp;itm_content=bst-sp\t\">Juno Sneakers Thả Thính Tình yêu</a>,\n",
       " <a class=\"link-vl-2\" data-eventlabel=\"Imperfect Perfection\" href=\"https://juno.vn/collections/imperfect-perfection-collection?itm_source=homepage&amp;itm_medium=smn&amp;itm_campaign=bst&amp;itm_content=imperfect-perfection\t\">Imperfect Perfection</a>,\n",
       " <a class=\"link-vl-2\" data-eventlabel=\"The Fold\" href=\"https://juno.vn/collections/the-fold?itm_source=homepage&amp;itm_medium=smn&amp;itm_campaign=clt&amp;itm_content=thefold\">The Fold</a>,\n",
       " <a class=\"link-vl-2\" data-eventlabel=\"Gemstone\" href=\"https://juno.vn/collections/gemstone?itm_source=homepage&amp;itm_medium=smn&amp;itm_campaign=clt&amp;itm_content=gemstone\">Gemstone</a>,\n",
       " <a class=\"link-vl-2\" data-eventlabel=\"Your Next Move\" href=\"https://juno.vn/collections/your-next-move?itm_source=homepage&amp;itm_medium=smn&amp;itm_campaign=clt&amp;itm_content=yournextmove\">Your Next Move</a>,\n",
       " <a class=\"link-vl-2\" data-eventlabel=\"Disney x Juno\" href=\"https://juno.vn/collections/disney-x-juno?itm_source=homepage&amp;itm_medium=smn&amp;itm_campaign=clt&amp;itm_content=disneyxjuno\">Disney x Juno</a>,\n",
       " <a class=\"link-vl-2\" data-eventlabel=\"Chunky Sneakers\" href=\"https://juno.vn/collections/chunky-sneakers?itm_source=homepage&amp;itm_medium=smn&amp;itm_campaign=clt&amp;itm_content=chunkysneakers\">Chunky Sneakers</a>]"
      ]
     },
     "metadata": {},
     "execution_count": 3
    }
   ],
   "source": [
    "driver = webdriver.Chrome()\n",
    "driver.get(\"https://juno.vn\")\n",
    "page_source = BeautifulSoup(driver.page_source)\n",
    "page_source.find_all('a',class_=\"link-vl-2\")"
   ]
  },
  {
   "cell_type": "code",
   "execution_count": 3,
   "metadata": {},
   "outputs": [],
   "source": [
    "driver = webdriver.Chrome()\n",
    "driver.get(\"https://juno.vn\")\n",
    "page_source = BeautifulSoup(driver.page_source)"
   ]
  },
  {
   "cell_type": "code",
   "execution_count": 25,
   "metadata": {},
   "outputs": [
    {
     "output_type": "execute_result",
     "data": {
      "text/plain": [
       "[<a class=\"link-vl-2\" data-eventlabel=\"Mắt kính\" href=\"https://juno.vn/collections/mat-kinh?itm_source=homepage&amp;itm_medium=smn&amp;itm_campaign=sp&amp;itm_content=matkinh\">Mắt kính</a>]"
      ]
     },
     "metadata": {},
     "execution_count": 25
    }
   ],
   "source": [
    " page_source.find_all('a',class_=\"link-vl-2\")[11:12]"
   ]
  },
  {
   "cell_type": "code",
   "execution_count": 27,
   "metadata": {
    "tags": []
   },
   "outputs": [
    {
     "output_type": "stream",
     "name": "stderr",
     "text": [
      "\n",
      "0it [00:00, ?it/s]\u001b[A\n",
      "1it [00:04,  4.55s/it]\u001b[A\n",
      "2it [00:07,  4.07s/it]\u001b[A\n",
      "3it [00:10,  3.64s/it]\u001b[A\n",
      "4it [00:15,  4.24s/it]\u001b[A\n",
      "5it [00:19,  3.98s/it]\u001b[A\n",
      "6it [00:22,  3.80s/it]\u001b[A\n",
      "7it [00:25,  3.58s/it]\u001b[A\n",
      "8it [00:28,  3.30s/it]\u001b[A\n",
      "9it [00:30,  3.10s/it]\u001b[A\n",
      "10it [00:34,  3.20s/it]\u001b[A\n",
      "11it [00:36,  2.85s/it]\u001b[A\n",
      "12it [00:40,  3.38s/it]\u001b[A\n",
      "13it [00:43,  3.24s/it]\u001b[A\n",
      "14it [00:46,  3.18s/it]\u001b[A\n",
      "15it [00:53,  4.16s/it]\u001b[A\n",
      "16it [00:56,  3.97s/it]\u001b[A\n",
      "17it [01:05,  5.49s/it]\u001b[A\n",
      "18it [01:09,  4.78s/it]\u001b[A\n",
      "19it [01:12,  4.24s/it]\u001b[A\n",
      "20it [01:18,  4.81s/it]\u001b[A\n",
      "21it [01:22,  4.55s/it]\u001b[A\n",
      "22it [01:24,  3.93s/it]\u001b[A\n",
      "23it [01:29,  4.19s/it]\u001b[A\n",
      "24it [01:37,  5.46s/it]\u001b[A\n",
      "25it [01:42,  5.23s/it]\u001b[A\n",
      "26it [01:48,  5.49s/it]\u001b[A\n",
      "27it [01:52,  4.16s/it]\n"
     ]
    }
   ],
   "source": [
    "##JUNO\n",
    "driver = webdriver.Chrome()\n",
    "driver.get(\"https://juno.vn\")\n",
    "page_source = BeautifulSoup(driver.page_source)\n",
    "\n",
    "for item in page_source.find_all('a',class_=\"link-vl-2\")[11:12]:\n",
    "    url=item.get(\"href\")\n",
    "    driver.get(url) \n",
    "    driver.execute_script(\"window.scrollTo(0, document.body.scrollHeight);\")\n",
    "    sleep(3)\n",
    "    page_source = BeautifulSoup(driver.page_source)\n",
    "    profiles = page_source.find_all('h3',class_=\"pro-name\")\n",
    "    list_product_url=[]\n",
    "    for profile in profiles:\n",
    "        product_id = profile.find(\"a\").get(\"href\")\n",
    "        product_url = str(\"https://juno.vn\")+product_id+\".js\"\n",
    "        list_product_url.append(product_url)\n",
    "    sleep(3)\n",
    "    #name_sub_category=url.split(\"=\")[-1]\n",
    "    #path=f\"/Users/lelac/Downloads/Pic/JUNO/bag_with_sub/{name_sub_category}/\"\n",
    "    path=f\"/Users/lelac/Downloads/Pic/JUNO/glasses/\"\n",
    "    os.makedirs(path,exist_ok=True) \n",
    "\n",
    "    for _,link in tqdm(enumerate(list_product_url)):\n",
    "        driver.get(link)\n",
    "        opener = urllib.request.URLopener()\n",
    "        opener.addheader('User-Agent', 'whatever')\n",
    "        soup = BeautifulSoup(driver.page_source, \"html.parser\")\n",
    "        soup=str(soup)\n",
    "        res=json.loads(soup[84:len(soup)-20])\n",
    "        storage_path=path+f\"{res['variants'][0]['sku']}\"\n",
    "        os.makedirs(storage_path,exist_ok=True) \n",
    "        for product in res['images']:\n",
    "                if 'color' not in product:\n",
    "                    pos = len(product) - product[::-1].index('/')\n",
    "                    hdr = {'User-Agent': 'Mozilla/5.0 (X11; Linux x86_64) AppleWebKit/537.11 (KHTML, like Gecko) Chrome/23.0.1271.64 Safari/537.11',\n",
    "                            'Accept': 'text/html,application/xhtml+xml,application/xml;q=0.9,*/*;q=0.8',\n",
    "                            'Accept-Charset': 'ISO-8859-1,utf-8;q=0.7,*;q=0.3',\n",
    "                            'Accept-Encoding': 'none',\n",
    "                            'Accept-Language': 'en-US,en;q=0.8',\n",
    "                            'Connection': 'keep-alive'}\n",
    "                    try: \n",
    "                        opener.retrieve(product, f\"{storage_path}/{product[pos:]}\")\n",
    "                    except OSError as error :  \n",
    "                        print(error) "
   ]
  },
  {
   "cell_type": "code",
   "execution_count": null,
   "metadata": {},
   "outputs": [],
   "source": [
    "import urllib.request\n",
    "##PLEASE CHANGE THE FOLDER NAME\n",
    "import os\n",
    "path=\"/Users/lelac/Downloads/Pic/ZARA/BAGS\"\n",
    "os.makedirs(path,exist_ok=True) \n",
    "for link in link_items[86:]:\n",
    "   driver.get(link)\n",
    "   opener = urllib.request.URLopener()\n",
    "   opener.addheader('User-Agent', 'whatever')\n",
    "   tag_content=driver.find_element_by_css_selector(\"#main > article > script\").get_attribute('innerHTML').split(\"},{\")\n",
    "   for content in tag_content:\n",
    "      #image_position=[match.start() for match in re.finditer(\"image\",driver.find_element_by_css_selector(\"#main > article > script\").get_attribute('innerHTML'))]\n",
    "      image_position=content.find('\"image\"')\n",
    "      range_lens=content[image_position+9:].replace(\"]}]\",\"\").replace(\"]\",\"\").split(\",\")\n",
    "      products=[range_lens[i].replace('\"',\"\") for i in range(len(range_lens))]\n",
    "      for product in products:\n",
    "               pos = len(product) - product[::-1].index('/')\n",
    "               hdr = {'User-Agent': 'Mozilla/5.0 (X11; Linux x86_64) AppleWebKit/537.11 (KHTML, like Gecko) Chrome/23.0.1271.64 Safari/537.11',\n",
    "                     'Accept': 'text/html,application/xhtml+xml,application/xml;q=0.9,*/*;q=0.8',\n",
    "                     'Accept-Charset': 'ISO-8859-1,utf-8;q=0.7,*;q=0.3',\n",
    "                     'Accept-Encoding': 'none',\n",
    "                     'Accept-Language': 'en-US,en;q=0.8',\n",
    "                     'Connection': 'keep-alive'}\n",
    "               try: \n",
    "                  opener.retrieve(product, \"/\".join([path, product[pos:].split(\".jpg\")[0]+\".png\"]))\n",
    "               except OSError as error :  \n",
    "                  print(error) "
   ]
  },
  {
   "cell_type": "code",
   "execution_count": 122,
   "metadata": {},
   "outputs": [],
   "source": [
    "path\n",
    "os.makedirs(path,exist_ok=True) \n"
   ]
  },
  {
   "cell_type": "code",
   "execution_count": 123,
   "metadata": {},
   "outputs": [
    {
     "output_type": "execute_result",
     "data": {
      "text/plain": [
       "['https://hnossfashion.com/collections/ao?itm_source=homepage&itm_medium=menu&itm_campaign=normal&itm_content=ao',\n",
       " 'https://hnossfashion.com/collections/ao-croptop',\n",
       " 'https://hnossfashion.com/collections/ao-bet-vai',\n",
       " 'https://hnossfashion.com/collections/ao-somi',\n",
       " 'https://hnossfashion.com/collections/ao-thun',\n",
       " 'https://hnossfashion.com/collections/ao-kieu',\n",
       " 'https://hnossfashion.com/collections/ao-khoac',\n",
       " 'https://hnossfashion.com/collections/ao',\n",
       " 'https://hnossfashion.com/collections/dam?itm_source=homepage&itm_medium=menu&itm_campaign=normal&itm_content=dam',\n",
       " 'https://hnossfashion.com/collections/dam-chu-a',\n",
       " 'https://hnossfashion.com/collections/dam-om',\n",
       " 'https://hnossfashion.com/collections/dam-so-mi',\n",
       " 'https://hnossfashion.com/collections/dam-thun',\n",
       " 'https://hnossfashion.com/collections/dam-suong',\n",
       " 'https://hnossfashion.com/collections/dam',\n",
       " 'https://hnossfashion.com/collections/vay?itm_source=homepage&itm_medium=menu&itm_campaign=normal&itm_content=vay',\n",
       " 'https://hnossfashion.com/collections/vay-a',\n",
       " 'https://hnossfashion.com/collections/vay-om',\n",
       " 'https://hnossfashion.com/collections/vay',\n",
       " 'https://hnossfashion.com/collections/quan?itm_source=homepage&itm_medium=menu&itm_campaign=normal&itm_content=quan',\n",
       " 'https://hnossfashion.com/collections/quan-dai',\n",
       " 'https://hnossfashion.com/collections/quan-shorts',\n",
       " 'https://hnossfashion.com/collections/quan',\n",
       " 'https://hnossfashion.com/collections/jumpsuit?itm_source=homepage&itm_medium=menu&itm_campaign=normal&itm_content=jumpsuit',\n",
       " 'https://hnossfashion.com/collections/jumpsuit']"
      ]
     },
     "metadata": {},
     "execution_count": 123
    }
   ],
   "source": [
    "list_link[]"
   ]
  },
  {
   "cell_type": "code",
   "execution_count": 138,
   "metadata": {},
   "outputs": [
    {
     "output_type": "stream",
     "name": "stdout",
     "text": [
      "https://hnossfashion.com/collections/quan-dai\n",
      "https://hnossfashion.com/collections/quan-shorts\n",
      "done_loading\n"
     ]
    }
   ],
   "source": [
    "## DOWNLOAD HNOSS\n",
    "driver = webdriver.Chrome()\n",
    "driver.get(\"https://hnossfashion.com/\")\n",
    "import os\n",
    "# list_category=['ao-','dam-','vay-','quan-','jumpsuit']\n",
    "# list_link=[h.find_element_by_tag_name(\"a\").get_attribute(\"href\") for h in driver.find_elements_by_class_name(\"menu__item\")]\n",
    "#9:13\n",
    "#16:18\n",
    "#20:21\n",
    "#24\n",
    "for text in list_link[20:22]:\n",
    "    print(text)\n",
    "    if list_category[0] in text:\n",
    "        sub_cat=text.split(\"/\")[-1]\n",
    "        path=f\"/Users/lelac/Downloads/Pic/HNOSS/ao/{sub_cat}/\"\n",
    "        os.makedirs(path,exist_ok=True) \n",
    "    elif list_category[1] in text:\n",
    "        sub_cat=text.split(\"/\")[-1]\n",
    "        path=f\"/Users/lelac/Downloads/Pic/HNOSS/dam/{sub_cat}/\"\n",
    "        os.makedirs(path,exist_ok=True) \n",
    "    elif list_category[2] in text:\n",
    "        sub_cat=text.split(\"/\")[-1]\n",
    "        path=f\"/Users/lelac/Downloads/Pic/HNOSS/vay/{sub_cat}/\"\n",
    "        os.makedirs(path,exist_ok=True) \n",
    "    elif list_category[3] in text:\n",
    "        sub_cat=text.split(\"/\")[-1]\n",
    "        path=f\"/Users/lelac/Downloads/Pic/HNOSS/quan/{sub_cat}/\"\n",
    "        os.makedirs(path,exist_ok=True) \n",
    "    elif list_category[4] in text:\n",
    "        sub_cat=text.split(\"/\")[-1]\n",
    "        path=f\"/Users/lelac/Downloads/Pic/HNOSS/jumpsuit/\"\n",
    "        os.makedirs(path,exist_ok=True) \n",
    "    driver.get(text)\n",
    "    try:\n",
    "        html = driver.find_element_by_xpath('//*[@id=\"collection-body\"]/div[2]/div[2]/div[2]')\n",
    "        html.click()\n",
    "        sleep(2)\n",
    "    except:  \n",
    "        print(\"done_loading\") \n",
    "    link_product=[]\n",
    "    page_source = BeautifulSoup(driver.page_source)\n",
    "    profiles = page_source.find_all('h3',class_=\"pro-name\")\n",
    "    list_product_url=[]\n",
    "    for profile in profiles:\n",
    "        extenstion=profile.find(\"a\").get(\"href\")\n",
    "        list_product_url.append(f'https://hnossfashion.com{extenstion}')\n",
    "    for link_ in list_product_url:\n",
    "        driver.get(link_)\n",
    "        sub_path=path+link_.split(\"/\")[-1]\n",
    "        os.makedirs(sub_path,exist_ok=True)\n",
    "        i=0\n",
    "        opener = urllib.request.URLopener()\n",
    "        opener.addheader('User-Agent', 'whatever')\n",
    "        for download_link_ in driver.find_element_by_xpath('//*[@id=\"product\"]/div/div[2]/div[2]/div/div[1]/div[1]/div[1]/div').find_elements_by_tag_name(\"div\"):\n",
    "             hdr = {'User-Agent': 'Mozilla/5.0 (X11; Linux x86_64) AppleWebKit/537.11 (KHTML, like Gecko) Chrome/23.0.1271.64 Safari/537.11',\n",
    "                     'Accept': 'text/html,application/xhtml+xml,application/xml;q=0.9,*/*;q=0.8',\n",
    "                     'Accept-Charset': 'ISO-8859-1,utf-8;q=0.7,*;q=0.3',\n",
    "                     'Accept-Encoding': 'none',\n",
    "                     'Accept-Language': 'en-US,en;q=0.8',\n",
    "                     'Connection': 'keep-alive'}\n",
    "             try: \n",
    "                  download_file=\"https://\"+download_link_.find_element_by_tag_name(\"a\").get_attribute(\"data-image\").replace(\"//\",\"\")\n",
    "                  name_file=f'{i}_{download_link_.get_attribute(\"data-color\")}.png'\n",
    "                  i+=1\n",
    "                  opener.retrieve(download_file, \"/\".join([sub_path,name_file]))\n",
    "             except OSError as error :  \n",
    "                  print(error) \n",
    "\n"
   ]
  },
  {
   "cell_type": "code",
   "execution_count": null,
   "metadata": {},
   "outputs": [],
   "source": []
  }
 ]
}