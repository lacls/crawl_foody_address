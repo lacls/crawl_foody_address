{
 "metadata": {
  "language_info": {
   "codemirror_mode": {
    "name": "ipython",
    "version": 3
   },
   "file_extension": ".py",
   "mimetype": "text/x-python",
   "name": "python",
   "nbconvert_exporter": "python",
   "pygments_lexer": "ipython3",
   "version": "3.7.6"
  },
  "orig_nbformat": 2,
  "kernelspec": {
   "name": "python376jvsc74a57bd091313f90fdaf0c79d9d10d7c22e5f9da1e39e468dd0121501fa7bb741f58a8bf",
   "display_name": "Python 3.7.6 64-bit ('base': conda)"
  }
 },
 "nbformat": 4,
 "nbformat_minor": 2,
 "cells": [
  {
   "cell_type": "code",
   "execution_count": 1,
   "metadata": {},
   "outputs": [],
   "source": [
    "from selenium import webdriver\n",
    "from selenium.webdriver.common.keys import Keys\n",
    "from bs4 import BeautifulSoup\n",
    "from time import sleep\n",
    "import csv\n",
    "import urllib\n",
    "from selenium.webdriver.common.action_chains import ActionChains\n",
    "import requests\n",
    "import json\n",
    "import re\n",
    "import tqdm\n",
    "import urllib.request\n",
    "import os\n",
    "from tqdm import tqdm\n",
    "from selenium import webdriver\n",
    "from selenium.common.exceptions import TimeoutException,StaleElementReferenceException,InvalidArgumentException,ElementClickInterceptedException\n",
    "from selenium.webdriver.support.ui import WebDriverWait\n",
    "from selenium.webdriver.support import expected_conditions as EC\n",
    "from selenium.webdriver.common.by import By\n",
    "import pickle5 as pickle\n",
    "list_of_hotel_link=pickle.load(open(\"list_of_hotel_link.pickle\",\"rb\"))   "
   ]
  },
  {
   "cell_type": "code",
   "execution_count": 5,
   "metadata": {},
   "outputs": [
    {
     "output_type": "execute_result",
     "data": {
      "text/plain": [
       "11183"
      ]
     },
     "metadata": {},
     "execution_count": 5
    }
   ],
   "source": [
    "list_of_hotel_link.index(\"https://www.agoda.com/vi-vn/villa-panda-sanctuary-ho-tram-resort/hotel/all/vung-tau-vn.html?finalPriceView=1&isShowMobileAppPrice=false&cid=-1&numberOfBedrooms=&familyMode=false&adults=1&children=0&rooms=1&maxRooms=0&checkIn=2021-05-31&isCalendarCallout=false&childAges=&numberOfGuest=0&missingChildAges=false&travellerType=-1&showReviewSubmissionEntry=false&currencyCode=VND&isFreeOccSearch=false&los=1&searchrequestid=bc8a11fa-8c2f-41a8-b5b7-cf1f17022781\")"
   ]
  },
  {
   "cell_type": "code",
   "execution_count": null,
   "metadata": {},
   "outputs": [],
   "source": [
    "\n",
    "# link_to_download=[\"https://www.agoda.com/vi-vn/search?city=15932\"]\n",
    "\n",
    "# # driver = webdriver.Chrome()\n",
    "# for url in link_to_download:\n",
    "#     driver.get(url)\n",
    "#     #Scroll Down\n",
    "#     for _ in tqdm(range(70)):\n",
    "#             for _ in range(30):\n",
    "#                 try: \n",
    "#                     html = driver.find_element_by_tag_name('html')\n",
    "#                     html.send_keys(Keys.END)\n",
    "#                 except:\n",
    "#                     continue\n",
    "#             sleep(2)\n",
    "#             #Get_All_Hotels_Link\n",
    "#             for element in driver.find_elements_by_class_name(\"PropertyCard__Link\"):\n",
    "#                 try:\n",
    "#                     list_of_hotel_link.append(element.get_attribute(\"href\"))\n",
    "#                 except:\n",
    "#                     continue\n",
    "#             flag=True\n",
    "#             i=0\n",
    "#             while flag:\n",
    "              \n",
    "#                 try:\n",
    "#                     html = driver.find_element_by_id('paginationNext')\n",
    "#                     html.click()\n",
    "#                     flag=False\n",
    "#                 except:\n",
    "#                     i+=1\n",
    "#                     if i==50:\n",
    "#                         flag=False\n",
    "#                     continue\n",
    "#            # pickle.dump(list_of_hotel_link,open(\"up_grade_list_of_hotel_link.pickle\",\"wb\"))            \n"
   ]
  },
  {
   "cell_type": "code",
   "execution_count": 6,
   "metadata": {},
   "outputs": [
    {
     "output_type": "execute_result",
     "data": {
      "text/plain": [
       "97923"
      ]
     },
     "metadata": {},
     "execution_count": 6
    }
   ],
   "source": [
    "driver = webdriver.Chrome()\n",
    "\n",
    "user_comments= pickle.load(open(\"user_comments.pickle\",\"rb\"))\n",
    "\n",
    "len(user_comments)"
   ]
  },
  {
   "cell_type": "code",
   "execution_count": 7,
   "metadata": {},
   "outputs": [
    {
     "output_type": "stream",
     "name": "stderr",
     "text": [
      "\n",
      "  0%|          | 0/20971 [00:00<?, ?it/s]\u001b[A\n",
      "  0%|          | 1/20971 [00:45<265:55:22, 45.65s/it]\u001b[A\n",
      "  0%|          | 2/20971 [01:02<214:55:47, 36.90s/it]\u001b[A\n",
      "  0%|          | 3/20971 [01:34<207:20:15, 35.60s/it]\u001b[A\n",
      "  0%|          | 4/20971 [01:49<170:39:59, 29.30s/it]\u001b[A\n",
      "  0%|          | 5/20971 [02:02<142:35:51, 24.48s/it]\u001b[A\n",
      "  0%|          | 6/20971 [02:16<123:39:21, 21.23s/it]\u001b[A\n",
      "  0%|          | 7/20971 [02:42<132:27:37, 22.75s/it]\u001b[A\n",
      "  0%|          | 8/20971 [02:58<119:57:52, 20.60s/it]\u001b[A\n",
      "  0%|          | 9/20971 [03:04<94:52:33, 16.29s/it] \u001b[A\n",
      "  0%|          | 10/20971 [03:38<125:18:54, 21.52s/it]\u001b[A\n",
      "  0%|          | 11/20971 [03:54<115:50:54, 19.90s/it]\u001b[A\n",
      "  0%|          | 12/20971 [04:07<104:46:33, 18.00s/it]\u001b[A\n",
      "  0%|          | 13/20971 [04:34<119:44:52, 20.57s/it]\u001b[A\n",
      "  0%|          | 14/20971 [05:08<143:59:36, 24.74s/it]\u001b[A\n",
      "  0%|          | 15/20971 [05:17<115:45:41, 19.89s/it]\u001b[A\n",
      "  0%|          | 16/20971 [05:49<137:29:20, 23.62s/it]\u001b[A\n",
      "  0%|          | 17/20971 [06:16<142:57:38, 24.56s/it]\u001b[A\n",
      "  0%|          | 18/20971 [06:32<127:43:54, 21.95s/it]\u001b[A\n",
      "  0%|          | 19/20971 [06:58<135:17:52, 23.25s/it]\u001b[A\n",
      "  0%|          | 20/20971 [07:05<106:37:54, 18.32s/it]\u001b[A\n",
      "  0%|          | 21/20971 [07:37<130:21:37, 22.40s/it]\u001b[A\n",
      "  0%|          | 22/20971 [07:45<106:18:04, 18.27s/it]\u001b[A\n",
      "  0%|          | 23/20971 [08:13<123:15:02, 21.18s/it]\u001b[A\n",
      "  0%|          | 24/20971 [08:40<132:12:23, 22.72s/it]\u001b[A"
     ]
    },
    {
     "output_type": "error",
     "ename": "ElementClickInterceptedException",
     "evalue": "Message: element click intercepted: Element <div class=\"select-dropdown-wrapper Review__FilterContainer__Dropbox\" data-selenium=\"reviews-language-filter\" value=\"0\" data-element-name=\"reviews-language-filter\">...</div> is not clickable at point (724, 747). Other element would receive the click: <p class=\"BackToSearch-toRoomGridText\">...</p>\n  (Session info: chrome=90.0.4430.212)\n",
     "traceback": [
      "\u001b[0;31m---------------------------------------------------------------------------\u001b[0m",
      "\u001b[0;31mElementClickInterceptedException\u001b[0m          Traceback (most recent call last)",
      "\u001b[0;32m<ipython-input-7-33ab624286b2>\u001b[0m in \u001b[0;36m<module>\u001b[0;34m\u001b[0m\n\u001b[1;32m     27\u001b[0m                 \u001b[0mhtml\u001b[0m\u001b[0;34m=\u001b[0m\u001b[0melements\u001b[0m\u001b[0;34m\u001b[0m\u001b[0;34m\u001b[0m\u001b[0m\n\u001b[1;32m     28\u001b[0m                 \u001b[0msleep\u001b[0m\u001b[0;34m(\u001b[0m\u001b[0;36m5\u001b[0m\u001b[0;34m)\u001b[0m\u001b[0;34m\u001b[0m\u001b[0;34m\u001b[0m\u001b[0m\n\u001b[0;32m---> 29\u001b[0;31m                 \u001b[0melements\u001b[0m\u001b[0;34m.\u001b[0m\u001b[0mclick\u001b[0m\u001b[0;34m(\u001b[0m\u001b[0;34m)\u001b[0m\u001b[0;34m\u001b[0m\u001b[0;34m\u001b[0m\u001b[0m\n\u001b[0m\u001b[1;32m     30\u001b[0m \u001b[0;34m\u001b[0m\u001b[0m\n\u001b[1;32m     31\u001b[0m                 \u001b[0;31m# try:\u001b[0m\u001b[0;34m\u001b[0m\u001b[0;34m\u001b[0m\u001b[0;34m\u001b[0m\u001b[0m\n",
      "\u001b[0;32m~/opt/anaconda3/lib/python3.7/site-packages/selenium/webdriver/remote/webelement.py\u001b[0m in \u001b[0;36mclick\u001b[0;34m(self)\u001b[0m\n\u001b[1;32m     78\u001b[0m     \u001b[0;32mdef\u001b[0m \u001b[0mclick\u001b[0m\u001b[0;34m(\u001b[0m\u001b[0mself\u001b[0m\u001b[0;34m)\u001b[0m\u001b[0;34m:\u001b[0m\u001b[0;34m\u001b[0m\u001b[0;34m\u001b[0m\u001b[0m\n\u001b[1;32m     79\u001b[0m         \u001b[0;34m\"\"\"Clicks the element.\"\"\"\u001b[0m\u001b[0;34m\u001b[0m\u001b[0;34m\u001b[0m\u001b[0m\n\u001b[0;32m---> 80\u001b[0;31m         \u001b[0mself\u001b[0m\u001b[0;34m.\u001b[0m\u001b[0m_execute\u001b[0m\u001b[0;34m(\u001b[0m\u001b[0mCommand\u001b[0m\u001b[0;34m.\u001b[0m\u001b[0mCLICK_ELEMENT\u001b[0m\u001b[0;34m)\u001b[0m\u001b[0;34m\u001b[0m\u001b[0;34m\u001b[0m\u001b[0m\n\u001b[0m\u001b[1;32m     81\u001b[0m \u001b[0;34m\u001b[0m\u001b[0m\n\u001b[1;32m     82\u001b[0m     \u001b[0;32mdef\u001b[0m \u001b[0msubmit\u001b[0m\u001b[0;34m(\u001b[0m\u001b[0mself\u001b[0m\u001b[0;34m)\u001b[0m\u001b[0;34m:\u001b[0m\u001b[0;34m\u001b[0m\u001b[0;34m\u001b[0m\u001b[0m\n",
      "\u001b[0;32m~/opt/anaconda3/lib/python3.7/site-packages/selenium/webdriver/remote/webelement.py\u001b[0m in \u001b[0;36m_execute\u001b[0;34m(self, command, params)\u001b[0m\n\u001b[1;32m    631\u001b[0m             \u001b[0mparams\u001b[0m \u001b[0;34m=\u001b[0m \u001b[0;34m{\u001b[0m\u001b[0;34m}\u001b[0m\u001b[0;34m\u001b[0m\u001b[0;34m\u001b[0m\u001b[0m\n\u001b[1;32m    632\u001b[0m         \u001b[0mparams\u001b[0m\u001b[0;34m[\u001b[0m\u001b[0;34m'id'\u001b[0m\u001b[0;34m]\u001b[0m \u001b[0;34m=\u001b[0m \u001b[0mself\u001b[0m\u001b[0;34m.\u001b[0m\u001b[0m_id\u001b[0m\u001b[0;34m\u001b[0m\u001b[0;34m\u001b[0m\u001b[0m\n\u001b[0;32m--> 633\u001b[0;31m         \u001b[0;32mreturn\u001b[0m \u001b[0mself\u001b[0m\u001b[0;34m.\u001b[0m\u001b[0m_parent\u001b[0m\u001b[0;34m.\u001b[0m\u001b[0mexecute\u001b[0m\u001b[0;34m(\u001b[0m\u001b[0mcommand\u001b[0m\u001b[0;34m,\u001b[0m \u001b[0mparams\u001b[0m\u001b[0;34m)\u001b[0m\u001b[0;34m\u001b[0m\u001b[0;34m\u001b[0m\u001b[0m\n\u001b[0m\u001b[1;32m    634\u001b[0m \u001b[0;34m\u001b[0m\u001b[0m\n\u001b[1;32m    635\u001b[0m     \u001b[0;32mdef\u001b[0m \u001b[0mfind_element\u001b[0m\u001b[0;34m(\u001b[0m\u001b[0mself\u001b[0m\u001b[0;34m,\u001b[0m \u001b[0mby\u001b[0m\u001b[0;34m=\u001b[0m\u001b[0mBy\u001b[0m\u001b[0;34m.\u001b[0m\u001b[0mID\u001b[0m\u001b[0;34m,\u001b[0m \u001b[0mvalue\u001b[0m\u001b[0;34m=\u001b[0m\u001b[0;32mNone\u001b[0m\u001b[0;34m)\u001b[0m\u001b[0;34m:\u001b[0m\u001b[0;34m\u001b[0m\u001b[0;34m\u001b[0m\u001b[0m\n",
      "\u001b[0;32m~/opt/anaconda3/lib/python3.7/site-packages/selenium/webdriver/remote/webdriver.py\u001b[0m in \u001b[0;36mexecute\u001b[0;34m(self, driver_command, params)\u001b[0m\n\u001b[1;32m    319\u001b[0m         \u001b[0mresponse\u001b[0m \u001b[0;34m=\u001b[0m \u001b[0mself\u001b[0m\u001b[0;34m.\u001b[0m\u001b[0mcommand_executor\u001b[0m\u001b[0;34m.\u001b[0m\u001b[0mexecute\u001b[0m\u001b[0;34m(\u001b[0m\u001b[0mdriver_command\u001b[0m\u001b[0;34m,\u001b[0m \u001b[0mparams\u001b[0m\u001b[0;34m)\u001b[0m\u001b[0;34m\u001b[0m\u001b[0;34m\u001b[0m\u001b[0m\n\u001b[1;32m    320\u001b[0m         \u001b[0;32mif\u001b[0m \u001b[0mresponse\u001b[0m\u001b[0;34m:\u001b[0m\u001b[0;34m\u001b[0m\u001b[0;34m\u001b[0m\u001b[0m\n\u001b[0;32m--> 321\u001b[0;31m             \u001b[0mself\u001b[0m\u001b[0;34m.\u001b[0m\u001b[0merror_handler\u001b[0m\u001b[0;34m.\u001b[0m\u001b[0mcheck_response\u001b[0m\u001b[0;34m(\u001b[0m\u001b[0mresponse\u001b[0m\u001b[0;34m)\u001b[0m\u001b[0;34m\u001b[0m\u001b[0;34m\u001b[0m\u001b[0m\n\u001b[0m\u001b[1;32m    322\u001b[0m             response['value'] = self._unwrap_value(\n\u001b[1;32m    323\u001b[0m                 response.get('value', None))\n",
      "\u001b[0;32m~/opt/anaconda3/lib/python3.7/site-packages/selenium/webdriver/remote/errorhandler.py\u001b[0m in \u001b[0;36mcheck_response\u001b[0;34m(self, response)\u001b[0m\n\u001b[1;32m    240\u001b[0m                 \u001b[0malert_text\u001b[0m \u001b[0;34m=\u001b[0m \u001b[0mvalue\u001b[0m\u001b[0;34m[\u001b[0m\u001b[0;34m'alert'\u001b[0m\u001b[0;34m]\u001b[0m\u001b[0;34m.\u001b[0m\u001b[0mget\u001b[0m\u001b[0;34m(\u001b[0m\u001b[0;34m'text'\u001b[0m\u001b[0;34m)\u001b[0m\u001b[0;34m\u001b[0m\u001b[0;34m\u001b[0m\u001b[0m\n\u001b[1;32m    241\u001b[0m             \u001b[0;32mraise\u001b[0m \u001b[0mexception_class\u001b[0m\u001b[0;34m(\u001b[0m\u001b[0mmessage\u001b[0m\u001b[0;34m,\u001b[0m \u001b[0mscreen\u001b[0m\u001b[0;34m,\u001b[0m \u001b[0mstacktrace\u001b[0m\u001b[0;34m,\u001b[0m \u001b[0malert_text\u001b[0m\u001b[0;34m)\u001b[0m\u001b[0;34m\u001b[0m\u001b[0;34m\u001b[0m\u001b[0m\n\u001b[0;32m--> 242\u001b[0;31m         \u001b[0;32mraise\u001b[0m \u001b[0mexception_class\u001b[0m\u001b[0;34m(\u001b[0m\u001b[0mmessage\u001b[0m\u001b[0;34m,\u001b[0m \u001b[0mscreen\u001b[0m\u001b[0;34m,\u001b[0m \u001b[0mstacktrace\u001b[0m\u001b[0;34m)\u001b[0m\u001b[0;34m\u001b[0m\u001b[0;34m\u001b[0m\u001b[0m\n\u001b[0m\u001b[1;32m    243\u001b[0m \u001b[0;34m\u001b[0m\u001b[0m\n\u001b[1;32m    244\u001b[0m     \u001b[0;32mdef\u001b[0m \u001b[0m_value_or_default\u001b[0m\u001b[0;34m(\u001b[0m\u001b[0mself\u001b[0m\u001b[0;34m,\u001b[0m \u001b[0mobj\u001b[0m\u001b[0;34m,\u001b[0m \u001b[0mkey\u001b[0m\u001b[0;34m,\u001b[0m \u001b[0mdefault\u001b[0m\u001b[0;34m)\u001b[0m\u001b[0;34m:\u001b[0m\u001b[0;34m\u001b[0m\u001b[0;34m\u001b[0m\u001b[0m\n",
      "\u001b[0;31mElementClickInterceptedException\u001b[0m: Message: element click intercepted: Element <div class=\"select-dropdown-wrapper Review__FilterContainer__Dropbox\" data-selenium=\"reviews-language-filter\" value=\"0\" data-element-name=\"reviews-language-filter\">...</div> is not clickable at point (724, 747). Other element would receive the click: <p class=\"BackToSearch-toRoomGridText\">...</p>\n  (Session info: chrome=90.0.4430.212)\n"
     ]
    }
   ],
   "source": [
    "from selenium.common.exceptions import ElementClickInterceptedException\n",
    "#user_comments=[]\n",
    "for url in tqdm(list_of_hotel_link[11184:],total=len(list_of_hotel_link[11184:])):\n",
    "    ##Choosing comments in Vnese only\n",
    "    try:\n",
    "        driver.get(url)\n",
    "    except InvalidArgumentException:\n",
    "        continue \n",
    "        \n",
    "    # timeout = 5\n",
    "    # try:\n",
    "    #     element_present = EC.presence_of_eslement_located((By.XPATH, '//*[@id=\"reviewFilterSection\"]/div[1]/div[3]'))\n",
    "    #     WebDriverWait(driver, timeout).until(element_present)\n",
    "    # except TimeoutException:\n",
    "    #     print(\"Timed out waiting for page to load\")\n",
    "    # html = driver.find_element_by_xpath('//*[@id=\"reviewFilterSection\"]/div[1]/div[3]')\n",
    "    # html.click()\n",
    "    try:\n",
    "        WebDriverWait(driver, 5).until(EC.element_to_be_clickable((By.CLASS_NAME, 'Review__FilterWrapper')))\n",
    "        html=driver.find_element_by_class_name(\"Review__FilterWrapper\").find_element_by_class_name(\"Review__FilterContainer\")\n",
    "    except TimeoutException:\n",
    "        continue\n",
    "    try:\n",
    "        WebDriverWait(html, 20).until(EC.element_to_be_clickable((By.TAG_NAME, 'div')))\n",
    "        for elements in html.find_elements_by_tag_name(\"div\"):\n",
    "            if elements.get_attribute(\"data-selenium\")==\"reviews-language-filter\":\n",
    "                html=elements\n",
    "                sleep(5)\n",
    "                elements.click()\n",
    "\n",
    "                # try:\n",
    "                #      WebDriverWait(html, 5).until(EC.element_to_be_clickable((By.TAG_NAME, 'div'))).click()\n",
    "                # except TimeoutException:\n",
    "                #     continue\n",
    "    except (TimeoutException,ElementClickInterceptedException):\n",
    "        continue\n",
    "\n",
    "    for elements in html.find_elements_by_tag_name(\"li\"):\n",
    "        if elements.find_elements_by_tag_name(\"span\")[2].text==\"Tiếng Việt\":\n",
    "            try:\n",
    "                WebDriverWait(elements, 20).until(EC.element_to_be_clickable((By.TAG_NAME, 'span'))).click()\n",
    "            except TimeoutException:\n",
    "                continue\n",
    "    #get_All_comments\n",
    "    for elements in driver.find_elements_by_class_name(\"Review-comment-bodyText\"):\n",
    "        user_comments.append(elements.text)\n",
    "    #Next page\n",
    "    sleep(3)\n",
    "    for _ in range(15):\n",
    "        try:\n",
    "            WebDriverWait(driver, 20).until(EC.element_to_be_clickable((By.XPATH, '//*[@id=\"reviewSection\"]/div[4]/div/span[3]'))).click()\n",
    "        except (ElementClickInterceptedException,TimeoutException,StaleElementReferenceException):\n",
    "            break\n",
    "        for elements in driver.find_elements_by_class_name(\"Review-comment-bodyText\"):\n",
    "            try:\n",
    "                WebDriverWait(driver, 10).until(EC.element_to_be_clickable((By.CLASS_NAME, 'Review-comment-bodyText')))\n",
    "                user_comments.append(elements.text)\n",
    "            except (TimeoutException,StaleElementReferenceException):\n",
    "                print(\"Xu Ca Na\")\n",
    "                continue\n",
    "    pickle.dump(user_comments,open(\"user_comments.pickle\",\"wb\"))"
   ]
  },
  {
   "cell_type": "code",
   "execution_count": null,
   "metadata": {},
   "outputs": [],
   "source": []
  }
 ]
}