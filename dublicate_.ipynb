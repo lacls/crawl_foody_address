{
 "metadata": {
  "language_info": {
   "codemirror_mode": {
    "name": "ipython",
    "version": 3
   },
   "file_extension": ".py",
   "mimetype": "text/x-python",
   "name": "python",
   "nbconvert_exporter": "python",
   "pygments_lexer": "ipython3",
   "version": "3.8.5-final"
  },
  "orig_nbformat": 2,
  "kernelspec": {
   "name": "python3",
   "display_name": "Python 3.8.5 64-bit",
   "metadata": {
    "interpreter": {
     "hash": "082e9a3bcad0a290d0001e938aa60b99250c6c2ef33a923c00b70f9826caf4b7"
    }
   }
  }
 },
 "nbformat": 4,
 "nbformat_minor": 2,
 "cells": [
  {
   "cell_type": "code",
   "execution_count": 1,
   "metadata": {},
   "outputs": [],
   "source": [
    "from selenium import webdriver\n",
    "from selenium.webdriver.common.keys import Keys\n",
    "from bs4 import BeautifulSoup\n",
    "from time import sleep\n",
    "import csv\n",
    "import urllib\n",
    "from selenium.webdriver.common.action_chains import ActionChains\n",
    "import requests\n",
    "import json\n",
    "import re\n",
    "import tqdm\n",
    "import urllib.request\n",
    "import os\n",
    "from tqdm import tqdm"
   ]
  },
  {
   "cell_type": "code",
   "execution_count": 34,
   "metadata": {},
   "outputs": [
    {
     "output_type": "execute_result",
     "data": {
      "text/plain": [
       "['https://hnossfashion.com/collections/jumpsuit']"
      ]
     },
     "metadata": {},
     "execution_count": 34
    }
   ],
   "source": [
    "list_link[24:25]"
   ]
  },
  {
   "cell_type": "code",
   "execution_count": 35,
   "metadata": {},
   "outputs": [
    {
     "output_type": "stream",
     "name": "stdout",
     "text": [
      "https://hnossfashion.com/collections/jumpsuit\n",
      "done_loading\n"
     ]
    }
   ],
   "source": [
    "## DOWNLOAD HNOSS\n",
    "driver = webdriver.Chrome()\n",
    "driver.get(\"https://hnossfashion.com/\")\n",
    "import os\n",
    "list_category=['ao-','dam-','vay-','quan-','jumpsuit']\n",
    "list_link=[h.find_element_by_tag_name(\"a\").get_attribute(\"href\") for h in driver.find_elements_by_class_name(\"menu__item\")]\n",
    "#1:7 - AO\n",
    "#9:14 - DAM\n",
    "#16:18 - VAY\n",
    "#20:22 - QUAN\n",
    "#24\n",
    "for text in list_link[24:25]:\n",
    "    print(text)\n",
    "    if list_category[0] in text:\n",
    "        sub_cat=text.split(\"/\")[-1]\n",
    "        path=f\"/Users/lelac/Downloads/Pic/HNOSS/ao/{sub_cat}/\"\n",
    "        os.makedirs(path,exist_ok=True) \n",
    "    elif list_category[1] in text:\n",
    "        sub_cat=text.split(\"/\")[-1]\n",
    "        path=f\"/Users/lelac/Downloads/Pic/HNOSS/dam/{sub_cat}/\"\n",
    "        os.makedirs(path,exist_ok=True) \n",
    "    elif list_category[2] in text:\n",
    "        sub_cat=text.split(\"/\")[-1]\n",
    "        path=f\"/Users/lelac/Downloads/Pic/HNOSS/vay/{sub_cat}/\"\n",
    "        os.makedirs(path,exist_ok=True) \n",
    "    elif list_category[3] in text:\n",
    "        sub_cat=text.split(\"/\")[-1]\n",
    "        path=f\"/Users/lelac/Downloads/Pic/HNOSS/quan/{sub_cat}/\"\n",
    "        os.makedirs(path,exist_ok=True) \n",
    "    elif list_category[4] in text:\n",
    "        sub_cat=text.split(\"/\")[-1]\n",
    "        path=f\"/Users/lelac/Downloads/Pic/HNOSS/jumpsuit/\"\n",
    "        os.makedirs(path,exist_ok=True) \n",
    "    driver.get(text)\n",
    "    try:\n",
    "        html = driver.find_element_by_xpath('//*[@id=\"collection-body\"]/div[2]/div[2]/div[2]')\n",
    "        html.click()\n",
    "        sleep(2)\n",
    "    except:  \n",
    "        print(\"done_loading\") \n",
    "    link_product=[]\n",
    "    page_source = BeautifulSoup(driver.page_source)\n",
    "    profiles = page_source.find_all('h3',class_=\"pro-name\")\n",
    "    list_product_url=[]\n",
    "    for profile in profiles:\n",
    "        extenstion=profile.find(\"a\").get(\"href\")\n",
    "        list_product_url.append(f'https://hnossfashion.com{extenstion}')\n",
    "    for link_ in list_product_url:\n",
    "        driver.get(link_)\n",
    "        sku=driver.find_element_by_class_name(\"product-title\").find_element_by_id(\"pro_sku\").text.replace(\"SKU: \",\"\")\n",
    "        sub_path=path+f\"/{sku}\"\n",
    "        os.makedirs(sub_path,exist_ok=True)\n",
    "        i=0\n",
    "        opener = urllib.request.URLopener()\n",
    "        opener.addheader('User-Agent', 'whatever')\n",
    "        for download_link_ in driver.find_element_by_xpath('//*[@id=\"product\"]/div/div[2]/div[2]/div/div[1]/div[1]/div[1]/div').find_elements_by_tag_name(\"div\"):\n",
    "             hdr = {'User-Agent': 'Mozilla/5.0 (X11; Linux x86_64) AppleWebKit/537.11 (KHTML, like Gecko) Chrome/23.0.1271.64 Safari/537.11',\n",
    "                     'Accept': 'text/html,application/xhtml+xml,application/xml;q=0.9,*/*;q=0.8',\n",
    "                     'Accept-Charset': 'ISO-8859-1,utf-8;q=0.7,*;q=0.3',\n",
    "                     'Accept-Encoding': 'none',\n",
    "                     'Accept-Language': 'en-US,en;q=0.8',\n",
    "                     'Connection': 'keep-alive'}\n",
    "             try: \n",
    "                  download_file=\"https://\"+download_link_.find_element_by_tag_name(\"a\").get_attribute(\"data-image\").replace(\"//\",\"\")\n",
    "                  name_file=f'{i}_{download_link_.get_attribute(\"data-color\")}.png'\n",
    "                  i+=1\n",
    "                  opener.retrieve(download_file, \"/\".join([sub_path,name_file]))\n",
    "             except OSError as error :  \n",
    "                  print(error) \n",
    "\n"
   ]
  },
  {
   "cell_type": "code",
   "execution_count": null,
   "metadata": {},
   "outputs": [],
   "source": []
  }
 ]
}