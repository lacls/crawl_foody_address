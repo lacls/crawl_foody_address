{
 "metadata": {
  "language_info": {
   "codemirror_mode": {
    "name": "ipython",
    "version": 3
   },
   "file_extension": ".py",
   "mimetype": "text/x-python",
   "name": "python",
   "nbconvert_exporter": "python",
   "pygments_lexer": "ipython3",
   "version": "3.7.6-final"
  },
  "orig_nbformat": 2,
  "kernelspec": {
   "name": "python376jvsc74a57bd091313f90fdaf0c79d9d10d7c22e5f9da1e39e468dd0121501fa7bb741f58a8bf",
   "display_name": "Python 3.7.6 64-bit ('base': conda)"
  }
 },
 "nbformat": 4,
 "nbformat_minor": 2,
 "cells": [
  {
   "cell_type": "code",
   "execution_count": 1,
   "metadata": {},
   "outputs": [],
   "source": [
    "from selenium import webdriver\n",
    "from selenium.webdriver.common.keys import Keys\n",
    "from bs4 import BeautifulSoup\n",
    "from time import sleep\n",
    "import csv\n",
    "import urllib\n",
    "from selenium.webdriver.common.action_chains import ActionChains\n",
    "import requests\n",
    "import json\n",
    "import re\n",
    "import tqdm\n",
    "import urllib.request\n",
    "import os\n",
    "from tqdm import tqdm\n",
    "from getpass import getpass"
   ]
  },
  {
   "source": [
    "## Wikipedia"
   ],
   "cell_type": "markdown",
   "metadata": {}
  },
  {
   "cell_type": "code",
   "execution_count": 44,
   "metadata": {},
   "outputs": [],
   "source": [
    "driver = webdriver.Chrome()\n",
    "driver.get(\"https://vi.wikipedia.org/wiki/Vua_Vi%E1%BB%87t_Nam\")\n",
    "\n",
    "address_name=[]\n",
    "\n",
    "for index,h in tqdm(enumerate(driver.find_element_by_xpath(\"/html/body/div[3]/div[3]/div[5]/div[1]/div[9]/table\").find_elements_by_tag_name(\"td\"))):\n",
    "    for _,k in enumerate(h.find_elements_by_tag_name(\"a\")):\n",
    "            address_name.append(k.text)\n",
    "# address_name=address_name[:212]\n"
   ]
  },
  {
   "source": [
    "## Webpage"
   ],
   "cell_type": "markdown",
   "metadata": {}
  },
  {
   "cell_type": "code",
   "execution_count": 109,
   "metadata": {},
   "outputs": [],
   "source": [
    "driver.get(\"http://www.lichsuvietnam.vn/home.php?option=com_content&task=category&sectionid=2&id=3&Itemid=34&limit=50&limitstart=0\")\n",
    "address_2=[]\n",
    "for index in range(26,76):\n",
    "    address_2.append(driver.find_elements_by_tag_name(\"a\")[index].text)\n",
    "while True:\n",
    "    for h in driver.find_elements_by_tag_name('a'):\n",
    "        if h.get_attribute(\"title\")==\"Tiếp\":\n",
    "            print(\"found \\n\")\n",
    "            h.click()\n",
    "            for index in range(26,76):\n",
    "                address_2.append(driver.find_elements_by_tag_name(\"a\")[index].text)\n",
    "            continue\n",
    "    break\n",
    "address_official=address_name+address_2"
   ]
  },
  {
   "cell_type": "code",
   "execution_count": 194,
   "metadata": {},
   "outputs": [],
   "source": [
    "address_formated=[]\n",
    "for text in address_official:\n",
    "    text=text.replace(\"\\uf020\",\"\")\n",
    "    if '(' in text:\n",
    "        address_formated.append(text[:text.find(\"(\")-1])\n",
    "    elif '-' in text:\n",
    "         address_formated.append(text[:list(text).index(\"-\")].strip())\n",
    "    elif '–' in text:\n",
    "        address_formated.append(text[:list(text).index(\"–\")].strip())\n",
    "\n",
    "    else:\n",
    "        address_formated.append(text)\n"
   ]
  },
  {
   "cell_type": "code",
   "execution_count": 206,
   "metadata": {},
   "outputs": [
    {
     "output_type": "execute_result",
     "data": {
      "text/plain": [
       "549"
      ]
     },
     "metadata": {},
     "execution_count": 206
    }
   ],
   "source": [
    "set(address_formated)\n",
    "with open(\"street_potential_name.txt\",\"w\") as wtext:\n",
    "    for h in address_formated:\n",
    "        wtext.writelines(h+\"\\n\")"
   ]
  },
  {
   "cell_type": "code",
   "execution_count": null,
   "metadata": {},
   "outputs": [],
   "source": []
  }
 ]
}