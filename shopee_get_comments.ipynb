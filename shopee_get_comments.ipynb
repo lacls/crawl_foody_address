{
 "metadata": {
  "language_info": {
   "codemirror_mode": {
    "name": "ipython",
    "version": 3
   },
   "file_extension": ".py",
   "mimetype": "text/x-python",
   "name": "python",
   "nbconvert_exporter": "python",
   "pygments_lexer": "ipython3",
   "version": "3.8.5"
  },
  "orig_nbformat": 2,
  "kernelspec": {
   "name": "python385jvsc74a57bd0082e9a3bcad0a290d0001e938aa60b99250c6c2ef33a923c00b70f9826caf4b7",
   "display_name": "Python 3.8.5 64-bit ('3.8')"
  },
  "metadata": {
   "interpreter": {
    "hash": "082e9a3bcad0a290d0001e938aa60b99250c6c2ef33a923c00b70f9826caf4b7"
   }
  }
 },
 "nbformat": 4,
 "nbformat_minor": 2,
 "cells": [
  {
   "cell_type": "code",
   "execution_count": null,
   "metadata": {},
   "outputs": [],
   "source": [
    "from selenium import webdriver\n",
    "from selenium.webdriver.common.keys import Keys\n",
    "from bs4 import BeautifulSoup\n",
    "from time import sleep\n",
    "import csv\n",
    "import urllib\n",
    "from selenium.webdriver.common.action_chains import ActionChains\n",
    "import requests\n",
    "import json\n",
    "import re\n",
    "import tqdm\n",
    "import urllib.request\n",
    "import os\n",
    "from tqdm import tqdm\n",
    "from selenium import webdriver\n",
    "from selenium.common.exceptions import TimeoutException,StaleElementReferenceException,InvalidArgumentException,ElementClickInterceptedException,WebDriverException\n",
    "from selenium.webdriver.support.ui import WebDriverWait\n",
    "from selenium.webdriver.support import expected_conditions as EC\n",
    "from selenium.webdriver.common.by import By\n",
    "import pickle5 as pickle"
   ]
  },
  {
   "cell_type": "code",
   "execution_count": null,
   "metadata": {},
   "outputs": [],
   "source": [
    "# options = webdriver.ChromeOptions()\n",
    "# options.add_argument('headless')\n",
    "# options.add_argument('window-size=1200x600')\n",
    "\n",
    "# driver = webdriver.Chrome(options=options)"
   ]
  },
  {
   "cell_type": "code",
   "execution_count": 123,
   "metadata": {},
   "outputs": [
    {
     "output_type": "error",
     "ename": "KeyboardInterrupt",
     "evalue": "",
     "traceback": [
      "\u001b[0;31m---------------------------------------------------------------------------\u001b[0m",
      "\u001b[0;31mKeyboardInterrupt\u001b[0m                         Traceback (most recent call last)",
      "\u001b[0;32m<ipython-input-123-6924db124b15>\u001b[0m in \u001b[0;36m<module>\u001b[0;34m\u001b[0m\n\u001b[1;32m     34\u001b[0m             \u001b[0;32mbreak\u001b[0m\u001b[0;34m\u001b[0m\u001b[0;34m\u001b[0m\u001b[0m\n\u001b[1;32m     35\u001b[0m         \u001b[0mdriver\u001b[0m\u001b[0;34m.\u001b[0m\u001b[0mfind_element_by_tag_name\u001b[0m\u001b[0;34m(\u001b[0m\u001b[0;34m\"body\"\u001b[0m\u001b[0;34m)\u001b[0m\u001b[0;34m.\u001b[0m\u001b[0msend_keys\u001b[0m\u001b[0;34m(\u001b[0m\u001b[0mKeys\u001b[0m\u001b[0;34m.\u001b[0m\u001b[0mEND\u001b[0m\u001b[0;34m)\u001b[0m\u001b[0;34m\u001b[0m\u001b[0;34m\u001b[0m\u001b[0m\n\u001b[0;32m---> 36\u001b[0;31m         \u001b[0msleep\u001b[0m\u001b[0;34m(\u001b[0m\u001b[0;36m2\u001b[0m\u001b[0;34m)\u001b[0m\u001b[0;34m\u001b[0m\u001b[0;34m\u001b[0m\u001b[0m\n\u001b[0m\u001b[1;32m     37\u001b[0m         \u001b[0;32mfor\u001b[0m \u001b[0melement\u001b[0m \u001b[0;32min\u001b[0m \u001b[0mdriver\u001b[0m\u001b[0;34m.\u001b[0m\u001b[0mfind_elements_by_class_name\u001b[0m\u001b[0;34m(\u001b[0m\u001b[0;34m\"shopee-product-rating__main\"\u001b[0m\u001b[0;34m)\u001b[0m\u001b[0;34m:\u001b[0m\u001b[0;34m\u001b[0m\u001b[0;34m\u001b[0m\u001b[0m\n\u001b[1;32m     38\u001b[0m             \u001b[0mcomments\u001b[0m\u001b[0;34m[\u001b[0m\u001b[0melement\u001b[0m\u001b[0;34m.\u001b[0m\u001b[0mfind_element_by_class_name\u001b[0m\u001b[0;34m(\u001b[0m\u001b[0;34m\"shopee-product-rating__time\"\u001b[0m\u001b[0;34m)\u001b[0m\u001b[0;34m.\u001b[0m\u001b[0mtext\u001b[0m\u001b[0;34m]\u001b[0m\u001b[0;34m=\u001b[0m\u001b[0melement\u001b[0m\u001b[0;34m.\u001b[0m\u001b[0mfind_element_by_class_name\u001b[0m\u001b[0;34m(\u001b[0m\u001b[0;34m\"shopee-product-rating__content\"\u001b[0m\u001b[0;34m)\u001b[0m\u001b[0;34m.\u001b[0m\u001b[0mtext\u001b[0m\u001b[0;34m\u001b[0m\u001b[0;34m\u001b[0m\u001b[0m\n",
      "\u001b[0;31mKeyboardInterrupt\u001b[0m: "
     ]
    }
   ],
   "source": [
    "import time\n",
    "start_time = time.time()\n",
    "driver = webdriver.Chrome()\n",
    "driver.get(\"https://shopee.vn/lg_official_store\")\n",
    "comments={}\n",
    "sleep(1)\n",
    "try:\n",
    "    WebDriverWait(driver, 10).until(EC.element_to_be_clickable((By.CLASS_NAME, 'shop-page__all-products-section')))\n",
    "except TimeoutError:\n",
    "    print(\"blalb\")\n",
    "products_url=[]\n",
    "i=0\n",
    "for _ in range(10):\n",
    "    if i==5:\n",
    "        break\n",
    "    for products in driver.find_element_by_class_name('shop-page__all-products-section').find_element_by_class_name(\"row\").find_elements_by_tag_name(\"a\"):\n",
    "        products_url.append(products.get_attribute(\"href\"))\n",
    "    ##click to the next page\n",
    "    for _ in range(5):\n",
    "        try:\n",
    "            driver.find_element_by_xpath(\"/html/body/div[1]/div/div[3]/div/div[2]/div/div[3]/div[2]/div[2]/div[3]\").find_elements_by_tag_name(\"button\")[-1].click()\n",
    "            i=0\n",
    "            break\n",
    "        except:\n",
    "            i+=1\n",
    "            continue\n",
    "for url in tqmd(products_url,total=len(products_url)):\n",
    "    if len(comments)==1500:\n",
    "        break\n",
    "    driver.get(url)\n",
    "    driver.find_element_by_tag_name(\"body\").send_keys(Keys.END)\n",
    "    i=0\n",
    "    for _ in tqdm(range(10)):\n",
    "        if i==2:\n",
    "            break\n",
    "        driver.find_element_by_tag_name(\"body\").send_keys(Keys.END)\n",
    "        sleep(1)         \n",
    "        for element in driver.find_elements_by_class_name(\"shopee-product-rating__main\"):\n",
    "            if element.find_element_by_class_name(\"shopee-product-rating__content\").text:\n",
    "                 comments[element.find_element_by_class_name(\"shopee-product-rating__time\").text]=element.find_element_by_class_name(\"shopee-product-rating__content\").text\n",
    "        for _ in range(10):\n",
    "            try:\n",
    "                driver.find_element_by_xpath(\"/html/body/div[1]/div/div[2]/div[2]/div[2]/div[3]/div[2]/div[1]/div[2]/div/div[3]/div[2]\").find_elements_by_tag_name(\"button\")[-1].click()\n",
    "                i=0\n",
    "                break\n",
    "            except:\n",
    "                print(\"cannot click on\")\n",
    "                if i==2:\n",
    "                    break\n",
    "                i+=1\n",
    "                continue\n",
    "\n",
    "print(\"--- %s seconds ---\" % (time.time() - start_time))\n",
    "    "
   ]
  },
  {
   "cell_type": "code",
   "execution_count": null,
   "metadata": {},
   "outputs": [],
   "source": []
  }
 ]
}